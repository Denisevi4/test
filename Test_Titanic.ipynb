{
 "cells": [
  {
   "cell_type": "code",
   "execution_count": 2,
   "metadata": {
    "ExecuteTime": {
     "end_time": "2017-03-20T06:56:33.953000",
     "start_time": "2017-03-20T13:56:33.887Z"
    },
    "collapsed": false,
    "run_control": {
     "frozen": false,
     "read_only": false
    }
   },
   "outputs": [],
   "source": [
    "library(h2o)\n",
    "library(gbm)"
   ]
  },
  {
   "cell_type": "code",
   "execution_count": 3,
   "metadata": {
    "ExecuteTime": {
     "end_time": "2017-03-20T06:56:35.828000",
     "start_time": "2017-03-20T13:56:35.606Z"
    },
    "collapsed": false,
    "run_control": {
     "frozen": false,
     "read_only": false
    }
   },
   "outputs": [
    {
     "name": "stdout",
     "output_type": "stream",
     "text": [
      " Connection successful!\n",
      "\n",
      "R is connected to the H2O cluster: \n",
      "    H2O cluster uptime:         9 days 21 hours \n",
      "    H2O cluster version:        3.10.4.1 \n",
      "    H2O cluster version age:    16 days  \n",
      "    H2O cluster name:           denis.perevalov \n",
      "    H2O cluster total nodes:    2 \n",
      "    H2O cluster total memory:   22.45 GB \n",
      "    H2O cluster total cores:    64 \n",
      "    H2O cluster allowed cores:  40 \n",
      "    H2O cluster healthy:        TRUE \n",
      "    H2O Connection ip:          localhost \n",
      "    H2O Connection port:        5777 \n",
      "    H2O Connection proxy:       NA \n",
      "    H2O Internal Security:      FALSE \n",
      "    R Version:                  R version 3.3.2 (2016-10-31) \n",
      "\n"
     ]
    }
   ],
   "source": [
    "# Connecting to the H20 Cluster consisting of frigg and odin. It has 64 logical processors.\n",
    "localH2O = h2o.init(port = 5777)"
   ]
  },
  {
   "cell_type": "code",
   "execution_count": 4,
   "metadata": {
    "ExecuteTime": {
     "end_time": "2017-03-20T06:56:40.120000",
     "start_time": "2017-03-20T13:56:37.854Z"
    },
    "collapsed": false,
    "run_control": {
     "frozen": false,
     "read_only": false
    },
    "scrolled": true
   },
   "outputs": [
    {
     "name": "stdout",
     "output_type": "stream",
     "text": [
      "\r",
      "  |                                                                            \r",
      "  |                                                                      |   0%\r",
      "  |                                                                            \r",
      "  |======================================================================| 100%\n"
     ]
    }
   ],
   "source": [
    "## 'path' can point to a local file, hdfs, s3, nfs, Hive, directories, etc.\n",
    "df.hex <- h2o.importFile(path = \"http://s3.amazonaws.com/h2o-public-test-data/smalldata/gbm_test/titanic.csv\")\n",
    "\n",
    "## pick a response for the supervised problem\n",
    "response        <- \"survived\"\n",
    "\n",
    "# H2O GBM needs it to be a factor\n",
    "response_factor <- paste0(response, \"_factor\")\n",
    "## the response variable is an integer, we will turn it into a categorical/factor for binary classification\n",
    "df.hex[[response_factor]] <- as.factor(df.hex[[response]])           \n",
    "\n",
    "## use all other columns (except for the name) as predictors\n",
    "predictors <- setdiff(names(df.hex), c(response, \"name\", response_factor)) "
   ]
  },
  {
   "cell_type": "code",
   "execution_count": 5,
   "metadata": {
    "ExecuteTime": {
     "end_time": "2017-03-20T06:56:41.103000",
     "start_time": "2017-03-20T13:56:41.030Z"
    },
    "collapsed": false,
    "run_control": {
     "frozen": false,
     "read_only": false
    }
   },
   "outputs": [
    {
     "data": {
      "text/html": [
       "<ol class=list-inline>\n",
       "\t<li>'cabin'</li>\n",
       "\t<li>'embarked'</li>\n",
       "</ol>\n"
      ],
      "text/latex": [
       "\\begin{enumerate*}\n",
       "\\item 'cabin'\n",
       "\\item 'embarked'\n",
       "\\end{enumerate*}\n"
      ],
      "text/markdown": [
       "1. 'cabin'\n",
       "2. 'embarked'\n",
       "\n",
       "\n"
      ],
      "text/plain": [
       "[1] \"cabin\"    \"embarked\""
      ]
     },
     "metadata": {},
     "output_type": "display_data"
    }
   ],
   "source": [
    "# Predictors for GBM\n",
    "predictors_gbm = predictors[8:9]\n",
    "predictors_gbm"
   ]
  },
  {
   "cell_type": "code",
   "execution_count": 6,
   "metadata": {
    "ExecuteTime": {
     "end_time": "2017-03-20T06:56:42.727000",
     "start_time": "2017-03-20T13:56:42.655Z"
    },
    "collapsed": false,
    "run_control": {
     "frozen": false,
     "read_only": false
    }
   },
   "outputs": [
    {
     "data": {
      "text/html": [
       "<ol class=list-inline>\n",
       "\t<li>'pclass'</li>\n",
       "\t<li>'sex'</li>\n",
       "\t<li>'age'</li>\n",
       "\t<li>'sibsp'</li>\n",
       "\t<li>'parch'</li>\n",
       "\t<li>'ticket'</li>\n",
       "\t<li>'fare'</li>\n",
       "\t<li>'boat'</li>\n",
       "\t<li>'body'</li>\n",
       "\t<li>'home.dest'</li>\n",
       "</ol>\n"
      ],
      "text/latex": [
       "\\begin{enumerate*}\n",
       "\\item 'pclass'\n",
       "\\item 'sex'\n",
       "\\item 'age'\n",
       "\\item 'sibsp'\n",
       "\\item 'parch'\n",
       "\\item 'ticket'\n",
       "\\item 'fare'\n",
       "\\item 'boat'\n",
       "\\item 'body'\n",
       "\\item 'home.dest'\n",
       "\\end{enumerate*}\n"
      ],
      "text/markdown": [
       "1. 'pclass'\n",
       "2. 'sex'\n",
       "3. 'age'\n",
       "4. 'sibsp'\n",
       "5. 'parch'\n",
       "6. 'ticket'\n",
       "7. 'fare'\n",
       "8. 'boat'\n",
       "9. 'body'\n",
       "10. 'home.dest'\n",
       "\n",
       "\n"
      ],
      "text/plain": [
       " [1] \"pclass\"    \"sex\"       \"age\"       \"sibsp\"     \"parch\"     \"ticket\"   \n",
       " [7] \"fare\"      \"boat\"      \"body\"      \"home.dest\""
      ]
     },
     "metadata": {},
     "output_type": "display_data"
    }
   ],
   "source": [
    "# Predictors for GLM\n",
    "predictors_glm = setdiff(predictors, predictors_gbm)\n",
    "predictors_glm"
   ]
  },
  {
   "cell_type": "code",
   "execution_count": 7,
   "metadata": {
    "ExecuteTime": {
     "end_time": "2017-03-20T06:56:48.909000",
     "start_time": "2017-03-20T13:56:48.255Z"
    },
    "collapsed": false,
    "run_control": {
     "frozen": false,
     "read_only": false
    }
   },
   "outputs": [
    {
     "name": "stdout",
     "output_type": "stream",
     "text": [
      "\r",
      "  |                                                                            \r",
      "  |                                                                      |   0%\r",
      "  |                                                                            \r",
      "  |======================================================================| 100%\n"
     ]
    }
   ],
   "source": [
    "# Build GLM. It's going to be the offset\n",
    "glm_model <- h2o.glm(x = predictors_glm,\n",
    "                     y     = \"survived\",\n",
    "                     family=\"binomial\",\n",
    "                     training_frame = df.hex)\n"
   ]
  },
  {
   "cell_type": "code",
   "execution_count": 8,
   "metadata": {
    "ExecuteTime": {
     "end_time": "2017-03-20T06:56:51.960000",
     "start_time": "2017-03-20T13:56:50.360Z"
    },
    "collapsed": false,
    "run_control": {
     "frozen": false,
     "read_only": false
    }
   },
   "outputs": [
    {
     "name": "stdout",
     "output_type": "stream",
     "text": [
      "\r",
      "  |                                                                            \r",
      "  |                                                                      |   0%\r",
      "  |                                                                            \r",
      "  |======================================================================| 100%\n"
     ]
    }
   ],
   "source": [
    "# Get Probabilities from GLM\n",
    "df.hex$Probability     = h2o.predict(glm_model, newdata = df.hex)$p1\n",
    "df.hex$ProbabilityLink = log(df.hex$Probability / (1.0 - df.hex$Probability))\n",
    "df.hex$ProbabilityLog  = log(df.hex$Probability)"
   ]
  },
  {
   "cell_type": "code",
   "execution_count": 9,
   "metadata": {
    "ExecuteTime": {
     "end_time": "2017-03-20T06:56:55.189000",
     "start_time": "2017-03-20T13:56:54.928Z"
    },
    "collapsed": false,
    "run_control": {
     "frozen": false,
     "read_only": false
    }
   },
   "outputs": [
    {
     "data": {
      "text/html": [
       "2.12875516349256"
      ],
      "text/latex": [
       "2.12875516349256"
      ],
      "text/markdown": [
       "2.12875516349256"
      ],
      "text/plain": [
       "[1] 2.128755"
      ]
     },
     "metadata": {},
     "output_type": "display_data"
    }
   ],
   "source": [
    "# Maximum of link could be greater than 1\n",
    "max(df.hex$ProbabilityLink)"
   ]
  },
  {
   "cell_type": "code",
   "execution_count": 10,
   "metadata": {
    "ExecuteTime": {
     "end_time": "2017-03-20T06:57:00.262000",
     "start_time": "2017-03-20T13:57:00.142Z"
    },
    "collapsed": true,
    "run_control": {
     "frozen": false,
     "read_only": false
    }
   },
   "outputs": [],
   "source": [
    "# Convert to R dataframe\n",
    "df = as.data.frame(df.hex)"
   ]
  },
  {
   "cell_type": "code",
   "execution_count": 11,
   "metadata": {
    "ExecuteTime": {
     "end_time": "2017-03-20T06:57:03.539000",
     "start_time": "2017-03-20T13:57:02.455Z"
    },
    "collapsed": false,
    "run_control": {
     "frozen": false,
     "read_only": false
    },
    "scrolled": true
   },
   "outputs": [
    {
     "name": "stdout",
     "output_type": "stream",
     "text": [
      "Iter   TrainDeviance   ValidDeviance   StepSize   Improve\n",
      "     1        0.9559             nan     0.0010    0.0000\n",
      "     2        0.9558             nan     0.0010    0.0000\n",
      "     3        0.9556             nan     0.0010    0.0000\n",
      "     4        0.9554             nan     0.0010    0.0000\n",
      "     5        0.9553             nan     0.0010    0.0000\n",
      "     6        0.9552             nan     0.0010    0.0000\n",
      "     7        0.9550             nan     0.0010    0.0000\n",
      "     8        0.9548             nan     0.0010    0.0000\n",
      "     9        0.9547             nan     0.0010    0.0000\n",
      "    10        0.9545             nan     0.0010    0.0000\n",
      "    20        0.9530             nan     0.0010    0.0000\n",
      "    40        0.9500             nan     0.0010    0.0000\n",
      "    60        0.9471             nan     0.0010    0.0000\n",
      "    80        0.9444             nan     0.0010    0.0000\n",
      "   100        0.9415             nan     0.0010    0.0000\n",
      "   120        0.9389             nan     0.0010    0.0000\n",
      "   140        0.9364             nan     0.0010    0.0000\n",
      "   160        0.9338             nan     0.0010    0.0000\n",
      "   180        0.9313             nan     0.0010    0.0000\n",
      "   200        0.9288             nan     0.0010    0.0000\n",
      "   220        0.9264             nan     0.0010    0.0000\n",
      "   240        0.9242             nan     0.0010    0.0000\n",
      "   260        0.9220             nan     0.0010    0.0000\n",
      "   280        0.9199             nan     0.0010    0.0000\n",
      "   300        0.9178             nan     0.0010    0.0000\n",
      "   320        0.9159             nan     0.0010    0.0000\n",
      "   340        0.9139             nan     0.0010    0.0000\n",
      "   360        0.9119             nan     0.0010    0.0000\n",
      "   380        0.9101             nan     0.0010    0.0000\n",
      "   400        0.9083             nan     0.0010   -0.0000\n",
      "   420        0.9065             nan     0.0010   -0.0000\n",
      "   440        0.9047             nan     0.0010    0.0000\n",
      "   460        0.9030             nan     0.0010   -0.0000\n",
      "   480        0.9014             nan     0.0010   -0.0000\n",
      "   500        0.8997             nan     0.0010    0.0000\n",
      "   520        0.8980             nan     0.0010   -0.0000\n",
      "   540        0.8964             nan     0.0010    0.0000\n",
      "   560        0.8949             nan     0.0010   -0.0000\n",
      "   580        0.8934             nan     0.0010   -0.0000\n",
      "   600        0.8919             nan     0.0010    0.0000\n",
      "   620        0.8905             nan     0.0010   -0.0000\n",
      "   640        0.8890             nan     0.0010    0.0000\n",
      "   660        0.8876             nan     0.0010   -0.0000\n",
      "   680        0.8863             nan     0.0010   -0.0000\n",
      "   700        0.8849             nan     0.0010   -0.0000\n",
      "   720        0.8835             nan     0.0010   -0.0000\n",
      "   740        0.8822             nan     0.0010   -0.0000\n",
      "   760        0.8809             nan     0.0010    0.0000\n",
      "   780        0.8797             nan     0.0010    0.0000\n",
      "   800        0.8785             nan     0.0010   -0.0000\n",
      "   820        0.8774             nan     0.0010   -0.0000\n",
      "   840        0.8763             nan     0.0010   -0.0000\n",
      "   860        0.8752             nan     0.0010   -0.0000\n",
      "   880        0.8741             nan     0.0010   -0.0000\n",
      "   900        0.8730             nan     0.0010   -0.0000\n",
      "   920        0.8720             nan     0.0010   -0.0000\n",
      "   940        0.8710             nan     0.0010   -0.0000\n",
      "   960        0.8700             nan     0.0010   -0.0000\n",
      "   980        0.8690             nan     0.0010   -0.0000\n",
      "  1000        0.8679             nan     0.0010   -0.0000\n",
      "\n"
     ]
    }
   ],
   "source": [
    "gbm_model  <- gbm.fit(x=df[,predictors_gbm], y=df[[response]], distribution=\"bernoulli\", offset=df[[\"ProbabilityLink\"]], n.trees=1000)"
   ]
  },
  {
   "cell_type": "code",
   "execution_count": 12,
   "metadata": {
    "ExecuteTime": {
     "end_time": "2017-03-20T06:57:06.249000",
     "start_time": "2017-03-20T13:57:06.182Z"
    },
    "collapsed": false,
    "run_control": {
     "frozen": false,
     "read_only": false
    },
    "scrolled": true
   },
   "outputs": [],
   "source": [
    "# get Probabilities\n",
    "get_pred = function(model, data, type=\"response\", offset=0, n.trees=1){\n",
    "    if(class(model) == \"gbm\"){\n",
    "        prediction = predict(model, newdata=data, type=type, n.trees = n.trees) + offset\n",
    "        # If Link, convert it back to probability\n",
    "        if(type == \"link\"){\n",
    "            prediction = 1.0 / (1.0 + exp(-prediction))\n",
    "        }\n",
    "    }else{\n",
    "        # H2O always predicts probabilities\n",
    "        prediction = predict(model, newdata=data)$p1\n",
    "    }\n",
    "    prediction\n",
    "}\n",
    "\n",
    "# Negative Log Likelihood (Same as LogLoss)\n",
    "# The lower - the better\n",
    "get_nll = function(model, data, truth=NULL, offset=0, n.trees=1){\n",
    "    if(is.null(truth)){\n",
    "        truth = data$survived\n",
    "    }\n",
    "    \n",
    "    prediction = get_pred(model=model, data=data, type=\"link\", offset=offset, n.trees=n.trees)\n",
    "    \n",
    "    logprob    = log(prediction + 0.0000001)\n",
    "    logprob2   = log(1.0 - prediction - 0.0000001)\n",
    "    ytrue = as.numeric(truth)\n",
    "    llk        = ytrue * logprob + (1.0 - ytrue) * logprob2\n",
    "    -mean(llk)\n",
    "}"
   ]
  },
  {
   "cell_type": "code",
   "execution_count": 13,
   "metadata": {
    "ExecuteTime": {
     "end_time": "2017-03-20T06:57:30.327000",
     "start_time": "2017-03-20T13:57:12.174Z"
    },
    "collapsed": false,
    "run_control": {
     "frozen": false,
     "read_only": false
    }
   },
   "outputs": [],
   "source": [
    "# Calculate LogLoss for GBM\n",
    "logloss  = sapply(1:1000, function(x) get_nll(gbm_model, df[,predictors_gbm], truth=df$survived, offset = df$ProbabilityLink, n.trees=x))"
   ]
  },
  {
   "cell_type": "code",
   "execution_count": 14,
   "metadata": {
    "ExecuteTime": {
     "end_time": "2017-03-20T06:57:31.818000",
     "start_time": "2017-03-20T13:57:14.087Z"
    },
    "collapsed": false,
    "run_control": {
     "frozen": false,
     "read_only": false
    },
    "scrolled": true
   },
   "outputs": [
    {
     "name": "stdout",
     "output_type": "stream",
     "text": [
      "\r",
      "  |                                                                            \r",
      "  |                                                                      |   0%\r",
      "  |                                                                            \r",
      "  |======================================================================| 100%\n"
     ]
    },
    {
     "data": {
      "image/png": "[encoded data removed]",
      "text/plain": [
       "plot without title"
      ]
     },
     "metadata": {},
     "output_type": "display_data"
    }
   ],
   "source": [
    "# Plot Log Loss for GBM as a function of trees\n",
    "plot(logloss)\n",
    "# Plot Log Loss for glm as red hirizontal line\n",
    "abline(h=get_nll(glm_model, df.hex), col=2)"
   ]
  },
  {
   "cell_type": "markdown",
   "metadata": {},
   "source": [
    "Alright. R's GBM worked fine. We started with a LogLoss equal to the initial guess and gradually decreasing it"
   ]
  },
  {
   "cell_type": "code",
   "execution_count": 15,
   "metadata": {
    "ExecuteTime": {
     "end_time": "2017-03-20T06:57:33.557000",
     "start_time": "2017-03-20T13:57:33.158Z"
    },
    "collapsed": false,
    "run_control": {
     "frozen": false,
     "read_only": false
    },
    "scrolled": true
   },
   "outputs": [
    {
     "name": "stdout",
     "output_type": "stream",
     "text": [
      "\r",
      "  |                                                                            \r",
      "  |                                                                      |   0%\n",
      "\n",
      "water.exceptions.H2OModelBuilderIllegalArgumentException: Illegal argument(s) for GBM model: GBM_model_R_1489164084643_3626.  Details: ERRR on field: _offset_column: Offset cannot be larger than 1 for Bernoulli distribution.\n",
      "\n",
      "\n",
      "water.exceptions.H2OModelBuilderIllegalArgumentException: Illegal argument(s) for GBM model: GBM_model_R_1489164084643_3626.  Details: ERRR on field: _offset_column: Offset cannot be larger than 1 for Bernoulli distribution.\n",
      "\r\n",
      "\tat water.exceptions.H2OModelBuilderIllegalArgumentException.makeFromBuilder(H2OModelBuilderIllegalArgumentException.java:20)\r\n",
      "\tat hex.tree.SharedTree$Driver.computeImpl(SharedTree.java:173)\r\n",
      "\tat hex.ModelBuilder$Driver.compute2(ModelBuilder.java:169)\r\n",
      "\tat water.H2O$H2OCountedCompleter.compute(H2O.java:1192)\r\n",
      "\tat jsr166y.CountedCompleter.exec(CountedCompleter.java:468)\r\n",
      "\tat jsr166y.ForkJoinTask.doExec(ForkJoinTask.java:263)\r\n",
      "\tat jsr166y.ForkJoinPool$WorkQueue.runTask(ForkJoinPool.java:974)\r\n",
      "\tat jsr166y.ForkJoinPool.runWorker(ForkJoinPool.java:1477)\r\n",
      "\tat jsr166y.ForkJoinWorkerThread.run(ForkJoinWorkerThread.java:104)\r\n",
      "\n"
     ]
    },
    {
     "ename": "ERROR",
     "evalue": "Error: water.exceptions.H2OModelBuilderIllegalArgumentException: Illegal argument(s) for GBM model: GBM_model_R_1489164084643_3626.  Details: ERRR on field: _offset_column: Offset cannot be larger than 1 for Bernoulli distribution.\n",
     "output_type": "error",
     "traceback": [
      "Error: water.exceptions.H2OModelBuilderIllegalArgumentException: Illegal argument(s) for GBM model: GBM_model_R_1489164084643_3626.  Details: ERRR on field: _offset_column: Offset cannot be larger than 1 for Bernoulli distribution.\nTraceback:\n",
      "1. h2o.gbm(x = predictors_gbm, , y = response_factor, distribution = \"bernoulli\", \n .     training_frame = df.hex, ntrees = 1, score_each_iteration = F, \n .     max_depth = 4, learn_rate = 5e-06, offset_column = \"ProbabilityLink\")",
      "2. .h2o.modelJob(\"gbm\", parms, h2oRestApiVersion = 3)",
      "3. h2o.getFutureModel(job)",
      "4. .h2o.__waitOnJob(object@job_key)",
      "5. tryCatch({\n .     while (keepRunning) {\n .         myJobUrlSuffix <- paste0(.h2o.__JOBS, \"/\", job_key)\n .         rawResponse <- .h2o.doSafeGET(urlSuffix = myJobUrlSuffix)\n .         jsonObject <- .h2o.fromJSON(jsonlite::fromJSON(rawResponse, \n .             simplifyDataFrame = FALSE))\n .         jobs <- jsonObject$jobs\n .         if (length(jobs) > 1) {\n .             stop(\"Job list has more than 1 entry\")\n .         }\n .         else if (length(jobs) == 0) {\n .             stop(\"Job list is empty\")\n .         }\n .         job = jobs[[1]]\n .         status = job$status\n .         stopifnot(is.character(status))\n .         if (status == \"FAILED\") {\n .             cat(\"\\n\\n\")\n .             cat(job$exception)\n .             cat(\"\\n\\n\")\n .             if (!is.null(job$stacktrace)) {\n .                 cat(job$stacktrace)\n .             }\n .             cat(\"\\n\")\n .             m <- strsplit(jobs[[1]]$exception, \"\\n\")[[1]][1]\n .             m <- gsub(\".*msg \", \"\", m)\n .             stop(m, call. = FALSE)\n .         }\n .         if (status == \"CANCELLED\") {\n .             stop(\"Job key \", job_key, \" cancelled by user\")\n .         }\n .         key = job$key\n .         name = key$name\n .         if (name != job_key) {\n .             message <- sprintf(\"Job %s not found in job list\", \n .                 job_key)\n .             stop(message)\n .         }\n .         if (progressBar) {\n .             progress = job$progress\n .             if (is.numeric(progress)) {\n .                 setTxtProgressBar(pb, progress)\n .             }\n .         }\n .         if ((status == \"CREATED\") || (status == \"RUNNING\")) {\n .         }\n .         else {\n .             stopifnot(status == \"DONE\")\n .             keepRunning <- FALSE\n .         }\n .         if (keepRunning) {\n .             Sys.sleep(pollInterval)\n .         }\n .         else {\n .             if (progressBar) {\n .                 close(pb)\n .             }\n .             for (w in job$warnings) {\n .                 warning(w)\n .             }\n .         }\n .     }\n . }, interrupt = function(x) {\n .     url.suf <- paste0(.h2o.__JOBS, \"/\", job_key, \"/cancel\")\n .     .h2o.doSafePOST(urlSuffix = url.suf)\n .     message(paste0(\"\\nJob \", job_key, \" was cancelled.\\n\"))\n .     return()\n . })",
      "6. tryCatchList(expr, classes, parentenv, handlers)",
      "7. tryCatchOne(expr, names, parentenv, handlers[[1L]])",
      "8. doTryCatch(return(expr), name, parentenv, handler)",
      "9. stop(m, call. = FALSE)"
     ]
    }
   ],
   "source": [
    "# Try to do the same for H2O GBM\n",
    "h2o_gbm_model = h2o.gbm(x = predictors_gbm,\n",
    "                         ,y                    = response_factor\n",
    "                         ,distribution         = \"bernoulli\"\n",
    "                         ,training_frame       = df.hex\n",
    "                         ,ntrees               = 1\n",
    "                         ,score_each_iteration = F\n",
    "                         ,max_depth            = 4\n",
    "                         ,learn_rate           = 0.000005\n",
    "                         ,offset_column        = \"ProbabilityLink\"\n",
    ")"
   ]
  },
  {
   "cell_type": "markdown",
   "metadata": {},
   "source": [
    "So, why is that **Offset cannot be larger than 1 for Bernoulli distribution**?"
   ]
  },
  {
   "cell_type": "code",
   "execution_count": 16,
   "metadata": {
    "ExecuteTime": {
     "end_time": "2017-03-20T06:57:56.633000",
     "start_time": "2017-03-20T13:57:54.925Z"
    },
    "collapsed": false,
    "run_control": {
     "frozen": false,
     "read_only": false
    }
   },
   "outputs": [
    {
     "name": "stdout",
     "output_type": "stream",
     "text": [
      "\r",
      "  |                                                                            \r",
      "  |                                                                      |   0%\r",
      "  |                                                                            \r",
      "  |======================================================================| 100%\n"
     ]
    }
   ],
   "source": [
    "# Well, maybe we need to set offset=Probability? since it's definitely less than 1\n",
    "\n",
    "# Try to do the same for H2O GBM\n",
    "h2o_gbm_model2 = h2o.gbm(x = predictors_gbm,\n",
    "                         ,y                    = response_factor\n",
    "                         ,distribution         = \"bernoulli\"\n",
    "                         ,training_frame       = df.hex\n",
    "                         ,ntrees               = 1\n",
    "                         ,score_each_iteration = F\n",
    "                         ,max_depth            = 4\n",
    "                         ,learn_rate           = 0.000005\n",
    "                         ,offset_column        = \"Probability\"\n",
    ")"
   ]
  },
  {
   "cell_type": "markdown",
   "metadata": {},
   "source": [
    "Alright, it did something. What about LogLoss?"
   ]
  },
  {
   "cell_type": "code",
   "execution_count": 17,
   "metadata": {
    "ExecuteTime": {
     "end_time": "2017-03-20T06:58:00.656000",
     "start_time": "2017-03-20T13:57:59.302Z"
    },
    "collapsed": false
   },
   "outputs": [
    {
     "name": "stdout",
     "output_type": "stream",
     "text": [
      "\r",
      "  |                                                                            \r",
      "  |                                                                      |   0%\r",
      "  |                                                                            \r",
      "  |======================================================================| 100%\n"
     ]
    },
    {
     "data": {
      "text/html": [
       "0.603530500907747"
      ],
      "text/latex": [
       "0.603530500907747"
      ],
      "text/markdown": [
       "0.603530500907747"
      ],
      "text/plain": [
       "[1] 0.6035305"
      ]
     },
     "metadata": {},
     "output_type": "display_data"
    }
   ],
   "source": [
    "# Calculate LogLoss for GBM\n",
    "get_nll(h2o_gbm_model2, df.hex)"
   ]
  },
  {
   "cell_type": "code",
   "execution_count": 18,
   "metadata": {
    "ExecuteTime": {
     "end_time": "2017-03-20T06:58:03.540000",
     "start_time": "2017-03-20T13:58:03.207Z"
    },
    "collapsed": false,
    "scrolled": true
   },
   "outputs": [
    {
     "name": "stdout",
     "output_type": "stream",
     "text": [
      "\r",
      "  |                                                                            \r",
      "  |                                                                      |   0%\r",
      "  |                                                                            \r",
      "  |======================================================================| 100%\n"
     ]
    },
    {
     "data": {
      "text/html": [
       "0.478031337627983"
      ],
      "text/latex": [
       "0.478031337627983"
      ],
      "text/markdown": [
       "0.478031337627983"
      ],
      "text/plain": [
       "[1] 0.4780313"
      ]
     },
     "metadata": {},
     "output_type": "display_data"
    }
   ],
   "source": [
    "# Calculate LogLoss for GLM\n",
    "get_nll(glm_model, df.hex)"
   ]
  },
  {
   "cell_type": "markdown",
   "metadata": {},
   "source": [
    "Nope. LogLoss is greater than what we started from."
   ]
  },
  {
   "cell_type": "markdown",
   "metadata": {},
   "source": [
    "# Boston Regression Example"
   ]
  },
  {
   "cell_type": "code",
   "execution_count": 25,
   "metadata": {
    "ExecuteTime": {
     "end_time": "2017-03-20T06:59:17.439000",
     "start_time": "2017-03-20T13:59:16.438Z"
    },
    "collapsed": false,
    "run_control": {
     "frozen": false,
     "read_only": false
    }
   },
   "outputs": [
    {
     "name": "stdout",
     "output_type": "stream",
     "text": [
      "\r",
      "  |                                                                            \r",
      "  |                                                                      |   0%\r",
      "  |                                                                            \r",
      "  |======================================================================| 100%\n"
     ]
    }
   ],
   "source": [
    "\n",
    "# import the boston dataset:\n",
    "# this dataset looks at features of the boston suburbs and predicts         median housing prices\n",
    "# the original dataset can be found at     https://archive.ics.uci.edu/ml/datasets/Housing\n",
    "boston <- h2o.importFile(\"https://s3.amazonaws.com/h2o-public-test-data/smalldata/gbm_test/BostonHousing.csv\")\n",
    "\n",
    "# set the predictor names and the response column name\n",
    "predictors <- colnames(boston)[1:13]\n",
    "# set the response column to \"medv\", the median value of owner-occupied     homes in $1000's\n",
    "response <- \"medv\"\n",
    "\n",
    "# convert the chas column to a factor (chas = Charles River dummy     variable (= 1 if tract bounds river; 0 otherwise))\n",
    "boston[\"chas\"] <- as.factor(boston[\"chas\"])"
   ]
  },
  {
   "cell_type": "code",
   "execution_count": 26,
   "metadata": {
    "ExecuteTime": {
     "end_time": "2017-03-20T06:59:21.877000",
     "start_time": "2017-03-20T13:59:21.813Z"
    },
    "collapsed": false
   },
   "outputs": [
    {
     "data": {
      "text/html": [
       "<ol class=list-inline>\n",
       "\t<li>'crim'</li>\n",
       "\t<li>'zn'</li>\n",
       "\t<li>'indus'</li>\n",
       "\t<li>'chas'</li>\n",
       "\t<li>'nox'</li>\n",
       "\t<li>'rm'</li>\n",
       "\t<li>'age'</li>\n",
       "\t<li>'dis'</li>\n",
       "\t<li>'rad'</li>\n",
       "\t<li>'tax'</li>\n",
       "\t<li>'ptratio'</li>\n",
       "\t<li>'b'</li>\n",
       "\t<li>'lstat'</li>\n",
       "</ol>\n"
      ],
      "text/latex": [
       "\\begin{enumerate*}\n",
       "\\item 'crim'\n",
       "\\item 'zn'\n",
       "\\item 'indus'\n",
       "\\item 'chas'\n",
       "\\item 'nox'\n",
       "\\item 'rm'\n",
       "\\item 'age'\n",
       "\\item 'dis'\n",
       "\\item 'rad'\n",
       "\\item 'tax'\n",
       "\\item 'ptratio'\n",
       "\\item 'b'\n",
       "\\item 'lstat'\n",
       "\\end{enumerate*}\n"
      ],
      "text/markdown": [
       "1. 'crim'\n",
       "2. 'zn'\n",
       "3. 'indus'\n",
       "4. 'chas'\n",
       "5. 'nox'\n",
       "6. 'rm'\n",
       "7. 'age'\n",
       "8. 'dis'\n",
       "9. 'rad'\n",
       "10. 'tax'\n",
       "11. 'ptratio'\n",
       "12. 'b'\n",
       "13. 'lstat'\n",
       "\n",
       "\n"
      ],
      "text/plain": [
       " [1] \"crim\"    \"zn\"      \"indus\"   \"chas\"    \"nox\"     \"rm\"      \"age\"    \n",
       " [8] \"dis\"     \"rad\"     \"tax\"     \"ptratio\" \"b\"       \"lstat\"  "
      ]
     },
     "metadata": {},
     "output_type": "display_data"
    }
   ],
   "source": [
    "predictors"
   ]
  },
  {
   "cell_type": "code",
   "execution_count": 27,
   "metadata": {
    "ExecuteTime": {
     "end_time": "2017-03-20T06:59:26.171000",
     "start_time": "2017-03-20T13:59:26.101Z"
    },
    "collapsed": false,
    "run_control": {
     "frozen": false,
     "read_only": false
    }
   },
   "outputs": [
    {
     "data": {
      "text/html": [
       "<ol class=list-inline>\n",
       "\t<li>'dis'</li>\n",
       "\t<li>'rad'</li>\n",
       "</ol>\n"
      ],
      "text/latex": [
       "\\begin{enumerate*}\n",
       "\\item 'dis'\n",
       "\\item 'rad'\n",
       "\\end{enumerate*}\n"
      ],
      "text/markdown": [
       "1. 'dis'\n",
       "2. 'rad'\n",
       "\n",
       "\n"
      ],
      "text/plain": [
       "[1] \"dis\" \"rad\""
      ]
     },
     "metadata": {},
     "output_type": "display_data"
    }
   ],
   "source": [
    "# Predictors for GBM\n",
    "predictors_gbm = predictors[8:9]\n",
    "predictors_gbm"
   ]
  },
  {
   "cell_type": "code",
   "execution_count": 28,
   "metadata": {
    "ExecuteTime": {
     "end_time": "2017-03-20T06:59:28.293000",
     "start_time": "2017-03-20T13:59:28.220Z"
    },
    "collapsed": false,
    "run_control": {
     "frozen": false,
     "read_only": false
    }
   },
   "outputs": [
    {
     "data": {
      "text/html": [
       "<ol class=list-inline>\n",
       "\t<li>'crim'</li>\n",
       "\t<li>'zn'</li>\n",
       "\t<li>'indus'</li>\n",
       "\t<li>'chas'</li>\n",
       "\t<li>'nox'</li>\n",
       "\t<li>'rm'</li>\n",
       "\t<li>'age'</li>\n",
       "\t<li>'tax'</li>\n",
       "\t<li>'ptratio'</li>\n",
       "\t<li>'b'</li>\n",
       "\t<li>'lstat'</li>\n",
       "</ol>\n"
      ],
      "text/latex": [
       "\\begin{enumerate*}\n",
       "\\item 'crim'\n",
       "\\item 'zn'\n",
       "\\item 'indus'\n",
       "\\item 'chas'\n",
       "\\item 'nox'\n",
       "\\item 'rm'\n",
       "\\item 'age'\n",
       "\\item 'tax'\n",
       "\\item 'ptratio'\n",
       "\\item 'b'\n",
       "\\item 'lstat'\n",
       "\\end{enumerate*}\n"
      ],
      "text/markdown": [
       "1. 'crim'\n",
       "2. 'zn'\n",
       "3. 'indus'\n",
       "4. 'chas'\n",
       "5. 'nox'\n",
       "6. 'rm'\n",
       "7. 'age'\n",
       "8. 'tax'\n",
       "9. 'ptratio'\n",
       "10. 'b'\n",
       "11. 'lstat'\n",
       "\n",
       "\n"
      ],
      "text/plain": [
       " [1] \"crim\"    \"zn\"      \"indus\"   \"chas\"    \"nox\"     \"rm\"      \"age\"    \n",
       " [8] \"tax\"     \"ptratio\" \"b\"       \"lstat\"  "
      ]
     },
     "metadata": {},
     "output_type": "display_data"
    }
   ],
   "source": [
    "# Predictors for GLM\n",
    "predictors_glm = setdiff(predictors, predictors_gbm)\n",
    "predictors_glm"
   ]
  },
  {
   "cell_type": "code",
   "execution_count": 29,
   "metadata": {
    "ExecuteTime": {
     "end_time": "2017-03-20T06:59:30.043000",
     "start_time": "2017-03-20T13:59:29.973Z"
    },
    "collapsed": true,
    "run_control": {
     "frozen": false,
     "read_only": false
    }
   },
   "outputs": [],
   "source": [
    "# split into train and validation sets\n",
    "boston.splits <- h2o.splitFrame(data =  boston, ratios = .8, seed = 1234)\n",
    "train <- boston.splits[[1]]\n",
    "valid <- boston.splits[[2]]"
   ]
  },
  {
   "cell_type": "code",
   "execution_count": 30,
   "metadata": {
    "ExecuteTime": {
     "end_time": "2017-03-20T06:59:36.271000",
     "start_time": "2017-03-20T13:59:36.012Z"
    },
    "collapsed": false
   },
   "outputs": [
    {
     "data": {
      "text/html": [
       "<table>\n",
       "<thead><tr><th scope=col>crim</th><th scope=col>zn</th><th scope=col>indus</th><th scope=col>chas</th><th scope=col>nox</th><th scope=col>rm</th><th scope=col>age</th><th scope=col>dis</th><th scope=col>rad</th><th scope=col>tax</th><th scope=col>ptratio</th><th scope=col>b</th><th scope=col>lstat</th><th scope=col>medv</th></tr></thead>\n",
       "<tbody>\n",
       "\t<tr><td>0.00632</td><td>18.0   </td><td>2.31   </td><td>0      </td><td>0.538  </td><td>6.575  </td><td>65.2   </td><td>4.0900 </td><td>1      </td><td>296    </td><td>15.3   </td><td>396.90 </td><td> 4.98  </td><td>24.0   </td></tr>\n",
       "\t<tr><td>0.02731</td><td> 0.0   </td><td>7.07   </td><td>0      </td><td>0.469  </td><td>6.421  </td><td>78.9   </td><td>4.9671 </td><td>2      </td><td>242    </td><td>17.8   </td><td>396.90 </td><td> 9.14  </td><td>21.6   </td></tr>\n",
       "\t<tr><td>0.02729</td><td> 0.0   </td><td>7.07   </td><td>0      </td><td>0.469  </td><td>7.185  </td><td>61.1   </td><td>4.9671 </td><td>2      </td><td>242    </td><td>17.8   </td><td>392.83 </td><td> 4.03  </td><td>34.7   </td></tr>\n",
       "\t<tr><td>0.06905</td><td> 0.0   </td><td>2.18   </td><td>0      </td><td>0.458  </td><td>7.147  </td><td>54.2   </td><td>6.0622 </td><td>3      </td><td>222    </td><td>18.7   </td><td>396.90 </td><td> 5.33  </td><td>36.2   </td></tr>\n",
       "\t<tr><td>0.02985</td><td> 0.0   </td><td>2.18   </td><td>0      </td><td>0.458  </td><td>6.430  </td><td>58.7   </td><td>6.0622 </td><td>3      </td><td>222    </td><td>18.7   </td><td>394.12 </td><td> 5.21  </td><td>28.7   </td></tr>\n",
       "\t<tr><td>0.08829</td><td>12.5   </td><td>7.87   </td><td>0      </td><td>0.524  </td><td>6.012  </td><td>66.6   </td><td>5.5605 </td><td>5      </td><td>311    </td><td>15.2   </td><td>395.60 </td><td>12.43  </td><td>22.9   </td></tr>\n",
       "</tbody>\n",
       "</table>\n"
      ],
      "text/latex": [
       "\\begin{tabular}{r|llllllllllllll}\n",
       " crim & zn & indus & chas & nox & rm & age & dis & rad & tax & ptratio & b & lstat & medv\\\\\n",
       "\\hline\n",
       "\t 0.00632 & 18.0    & 2.31    & 0       & 0.538   & 6.575   & 65.2    & 4.0900  & 1       & 296     & 15.3    & 396.90  &  4.98   & 24.0   \\\\\n",
       "\t 0.02731 &  0.0    & 7.07    & 0       & 0.469   & 6.421   & 78.9    & 4.9671  & 2       & 242     & 17.8    & 396.90  &  9.14   & 21.6   \\\\\n",
       "\t 0.02729 &  0.0    & 7.07    & 0       & 0.469   & 7.185   & 61.1    & 4.9671  & 2       & 242     & 17.8    & 392.83  &  4.03   & 34.7   \\\\\n",
       "\t 0.06905 &  0.0    & 2.18    & 0       & 0.458   & 7.147   & 54.2    & 6.0622  & 3       & 222     & 18.7    & 396.90  &  5.33   & 36.2   \\\\\n",
       "\t 0.02985 &  0.0    & 2.18    & 0       & 0.458   & 6.430   & 58.7    & 6.0622  & 3       & 222     & 18.7    & 394.12  &  5.21   & 28.7   \\\\\n",
       "\t 0.08829 & 12.5    & 7.87    & 0       & 0.524   & 6.012   & 66.6    & 5.5605  & 5       & 311     & 15.2    & 395.60  & 12.43   & 22.9   \\\\\n",
       "\\end{tabular}\n"
      ],
      "text/plain": [
       "  crim    zn   indus chas nox   rm    age  dis    rad tax ptratio b      lstat\n",
       "1 0.00632 18.0 2.31  0    0.538 6.575 65.2 4.0900 1   296 15.3    396.90  4.98\n",
       "2 0.02731  0.0 7.07  0    0.469 6.421 78.9 4.9671 2   242 17.8    396.90  9.14\n",
       "3 0.02729  0.0 7.07  0    0.469 7.185 61.1 4.9671 2   242 17.8    392.83  4.03\n",
       "4 0.06905  0.0 2.18  0    0.458 7.147 54.2 6.0622 3   222 18.7    396.90  5.33\n",
       "5 0.02985  0.0 2.18  0    0.458 6.430 58.7 6.0622 3   222 18.7    394.12  5.21\n",
       "6 0.08829 12.5 7.87  0    0.524 6.012 66.6 5.5605 5   311 15.2    395.60 12.43\n",
       "  medv\n",
       "1 24.0\n",
       "2 21.6\n",
       "3 34.7\n",
       "4 36.2\n",
       "5 28.7\n",
       "6 22.9"
      ]
     },
     "metadata": {},
     "output_type": "display_data"
    }
   ],
   "source": [
    "head(train)"
   ]
  },
  {
   "cell_type": "code",
   "execution_count": 31,
   "metadata": {
    "ExecuteTime": {
     "end_time": "2017-03-20T06:59:53.057000",
     "start_time": "2017-03-20T13:59:52.373Z"
    },
    "collapsed": false,
    "run_control": {
     "frozen": false,
     "read_only": false
    }
   },
   "outputs": [
    {
     "name": "stdout",
     "output_type": "stream",
     "text": [
      "\r",
      "  |                                                                            \r",
      "  |                                                                      |   0%\r",
      "  |                                                                            \r",
      "  |======================================================================| 100%\n"
     ]
    }
   ],
   "source": [
    "# Build GLM. It's going to be the offset\n",
    "glm_model2 <- h2o.glm(x = predictors_glm,\n",
    "                     y     = response,\n",
    "                     family=\"gaussian\",\n",
    "                     training_frame = train,\n",
    "                     validation_frame = valid\n",
    "                    )\n"
   ]
  },
  {
   "cell_type": "code",
   "execution_count": 32,
   "metadata": {
    "ExecuteTime": {
     "end_time": "2017-03-20T06:59:57.609000",
     "start_time": "2017-03-20T13:59:57.540Z"
    },
    "collapsed": false,
    "run_control": {
     "frozen": false,
     "read_only": false
    }
   },
   "outputs": [
    {
     "name": "stdout",
     "output_type": "stream",
     "text": [
      "[1] 36.95069\n"
     ]
    }
   ],
   "source": [
    "print(h2o.mse(glm_model2, valid = TRUE))"
   ]
  },
  {
   "cell_type": "code",
   "execution_count": 36,
   "metadata": {
    "ExecuteTime": {
     "end_time": "2017-03-20T07:00:32.986000",
     "start_time": "2017-03-20T14:00:32.763Z"
    },
    "collapsed": false,
    "run_control": {
     "frozen": false,
     "read_only": false
    }
   },
   "outputs": [
    {
     "name": "stdout",
     "output_type": "stream",
     "text": [
      "\r",
      "  |                                                                            \r",
      "  |                                                                      |   0%\r",
      "  |                                                                            \r",
      "  |======================================================================| 100%\n"
     ]
    }
   ],
   "source": [
    "boston[\"offset\"] <- h2o.predict(glm_model2, boston)"
   ]
  },
  {
   "cell_type": "code",
   "execution_count": 33,
   "metadata": {
    "ExecuteTime": {
     "end_time": "2017-03-20T07:00:05.380000",
     "start_time": "2017-03-20T14:00:05.214Z"
    },
    "collapsed": false,
    "run_control": {
     "frozen": false,
     "read_only": false
    }
   },
   "outputs": [
    {
     "data": {
      "text/html": [
       "<table>\n",
       "<thead><tr><th scope=col>crim</th><th scope=col>zn</th><th scope=col>indus</th><th scope=col>chas</th><th scope=col>nox</th><th scope=col>rm</th><th scope=col>age</th><th scope=col>dis</th><th scope=col>rad</th><th scope=col>tax</th><th scope=col>ptratio</th><th scope=col>b</th><th scope=col>lstat</th><th scope=col>medv</th></tr></thead>\n",
       "<tbody>\n",
       "\t<tr><td>0.00632</td><td>18     </td><td>2.31   </td><td>0      </td><td>0.538  </td><td>6.575  </td><td>65.2   </td><td>4.0900 </td><td>1      </td><td>296    </td><td>15.3   </td><td>396.90 </td><td>4.98   </td><td>24.0   </td></tr>\n",
       "\t<tr><td>0.02731</td><td> 0     </td><td>7.07   </td><td>0      </td><td>0.469  </td><td>6.421  </td><td>78.9   </td><td>4.9671 </td><td>2      </td><td>242    </td><td>17.8   </td><td>396.90 </td><td>9.14   </td><td>21.6   </td></tr>\n",
       "\t<tr><td>0.02729</td><td> 0     </td><td>7.07   </td><td>0      </td><td>0.469  </td><td>7.185  </td><td>61.1   </td><td>4.9671 </td><td>2      </td><td>242    </td><td>17.8   </td><td>392.83 </td><td>4.03   </td><td>34.7   </td></tr>\n",
       "\t<tr><td>0.03237</td><td> 0     </td><td>2.18   </td><td>0      </td><td>0.458  </td><td>6.998  </td><td>45.8   </td><td>6.0622 </td><td>3      </td><td>222    </td><td>18.7   </td><td>394.63 </td><td>2.94   </td><td>33.4   </td></tr>\n",
       "\t<tr><td>0.06905</td><td> 0     </td><td>2.18   </td><td>0      </td><td>0.458  </td><td>7.147  </td><td>54.2   </td><td>6.0622 </td><td>3      </td><td>222    </td><td>18.7   </td><td>396.90 </td><td>5.33   </td><td>36.2   </td></tr>\n",
       "\t<tr><td>0.02985</td><td> 0     </td><td>2.18   </td><td>0      </td><td>0.458  </td><td>6.430  </td><td>58.7   </td><td>6.0622 </td><td>3      </td><td>222    </td><td>18.7   </td><td>394.12 </td><td>5.21   </td><td>28.7   </td></tr>\n",
       "</tbody>\n",
       "</table>\n"
      ],
      "text/latex": [
       "\\begin{tabular}{r|llllllllllllll}\n",
       " crim & zn & indus & chas & nox & rm & age & dis & rad & tax & ptratio & b & lstat & medv\\\\\n",
       "\\hline\n",
       "\t 0.00632 & 18      & 2.31    & 0       & 0.538   & 6.575   & 65.2    & 4.0900  & 1       & 296     & 15.3    & 396.90  & 4.98    & 24.0   \\\\\n",
       "\t 0.02731 &  0      & 7.07    & 0       & 0.469   & 6.421   & 78.9    & 4.9671  & 2       & 242     & 17.8    & 396.90  & 9.14    & 21.6   \\\\\n",
       "\t 0.02729 &  0      & 7.07    & 0       & 0.469   & 7.185   & 61.1    & 4.9671  & 2       & 242     & 17.8    & 392.83  & 4.03    & 34.7   \\\\\n",
       "\t 0.03237 &  0      & 2.18    & 0       & 0.458   & 6.998   & 45.8    & 6.0622  & 3       & 222     & 18.7    & 394.63  & 2.94    & 33.4   \\\\\n",
       "\t 0.06905 &  0      & 2.18    & 0       & 0.458   & 7.147   & 54.2    & 6.0622  & 3       & 222     & 18.7    & 396.90  & 5.33    & 36.2   \\\\\n",
       "\t 0.02985 &  0      & 2.18    & 0       & 0.458   & 6.430   & 58.7    & 6.0622  & 3       & 222     & 18.7    & 394.12  & 5.21    & 28.7   \\\\\n",
       "\\end{tabular}\n"
      ],
      "text/plain": [
       "  crim    zn indus chas nox   rm    age  dis    rad tax ptratio b      lstat\n",
       "1 0.00632 18 2.31  0    0.538 6.575 65.2 4.0900 1   296 15.3    396.90 4.98 \n",
       "2 0.02731  0 7.07  0    0.469 6.421 78.9 4.9671 2   242 17.8    396.90 9.14 \n",
       "3 0.02729  0 7.07  0    0.469 7.185 61.1 4.9671 2   242 17.8    392.83 4.03 \n",
       "4 0.03237  0 2.18  0    0.458 6.998 45.8 6.0622 3   222 18.7    394.63 2.94 \n",
       "5 0.06905  0 2.18  0    0.458 7.147 54.2 6.0622 3   222 18.7    396.90 5.33 \n",
       "6 0.02985  0 2.18  0    0.458 6.430 58.7 6.0622 3   222 18.7    394.12 5.21 \n",
       "  medv\n",
       "1 24.0\n",
       "2 21.6\n",
       "3 34.7\n",
       "4 33.4\n",
       "5 36.2\n",
       "6 28.7"
      ]
     },
     "metadata": {},
     "output_type": "display_data"
    }
   ],
   "source": [
    "head(boston)"
   ]
  },
  {
   "cell_type": "code",
   "execution_count": 37,
   "metadata": {
    "ExecuteTime": {
     "end_time": "2017-03-20T07:00:35.415000",
     "start_time": "2017-03-20T14:00:35.332Z"
    },
    "collapsed": true,
    "run_control": {
     "frozen": false,
     "read_only": false
    }
   },
   "outputs": [],
   "source": [
    "# split into train and validation sets\n",
    "boston.splits <- h2o.splitFrame(data =  boston, ratios = .8, seed = 1234)\n",
    "train <- boston.splits[[1]]\n",
    "valid <- boston.splits[[2]]"
   ]
  },
  {
   "cell_type": "code",
   "execution_count": 38,
   "metadata": {
    "ExecuteTime": {
     "end_time": "2017-03-20T07:00:37.522000",
     "start_time": "2017-03-20T14:00:36.732Z"
    },
    "collapsed": false,
    "run_control": {
     "frozen": false,
     "read_only": false
    }
   },
   "outputs": [
    {
     "name": "stdout",
     "output_type": "stream",
     "text": [
      "\r",
      "  |                                                                            \r",
      "  |                                                                      |   0%\r",
      "  |                                                                            \r",
      "  |======================================================================| 100%\n"
     ]
    }
   ],
   "source": [
    "# try using the `offset_column` parameter:\n",
    "# train your model, where you specify the offset_column\n",
    "boston_gbm <- h2o.gbm(x = predictors_gbm, y = response, training_frame = train,\n",
    "               validation_frame = valid,\n",
    "               offset_column = \"offset\",\n",
    "               ,ntrees               = 1\n",
    "               ,score_each_iteration = F\n",
    "               ,max_depth            = 4\n",
    "               ,learn_rate           = 0.000005\n",
    "               )"
   ]
  },
  {
   "cell_type": "code",
   "execution_count": 40,
   "metadata": {
    "ExecuteTime": {
     "end_time": "2017-03-20T07:00:44.769000",
     "start_time": "2017-03-20T14:00:44.700Z"
    },
    "collapsed": false,
    "run_control": {
     "frozen": false,
     "read_only": false
    }
   },
   "outputs": [
    {
     "name": "stdout",
     "output_type": "stream",
     "text": [
      "[1] 36.95069\n",
      "[1] 36.95062\n"
     ]
    }
   ],
   "source": [
    "print(h2o.mse(glm_model2, valid = TRUE))\n",
    "print(h2o.mse(boston_gbm, valid = TRUE))"
   ]
  },
  {
   "cell_type": "markdown",
   "metadata": {},
   "source": [
    "So, regression works fine"
   ]
  }
 ],
 "metadata": {
  "hide_input": false,
  "kernelspec": {
   "display_name": "R",
   "language": "R",
   "name": "ir"
  },
  "language_info": {
   "codemirror_mode": "r",
   "file_extension": ".r",
   "mimetype": "text/x-r-source",
   "name": "R",
   "pygments_lexer": "r",
   "version": "3.3.2"
  },
  "latex_envs": {
   "bibliofile": "biblio.bib",
   "cite_by": "apalike",
   "current_citInitial": 1,
   "eqLabelWithNumbers": true,
   "eqNumInitial": 0
  }
 },
 "nbformat": 4,
 "nbformat_minor": 0
}
