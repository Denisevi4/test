{
 "cells": [
  {
   "cell_type": "code",
   "execution_count": 1,
   "metadata": {
    "ExecuteTime": {
     "end_time": "2017-03-16T14:01:07.478000",
     "start_time": "2017-03-16T21:01:04.981Z"
    },
    "collapsed": false,
    "run_control": {
     "frozen": false,
     "read_only": false
    }
   },
   "outputs": [
    {
     "name": "stderr",
     "output_type": "stream",
     "text": [
      "\n",
      "----------------------------------------------------------------------\n",
      "\n",
      "Your next step is to start H2O:\n",
      "    > h2o.init()\n",
      "\n",
      "For H2O package documentation, ask for help:\n",
      "    > ??h2o\n",
      "\n",
      "After starting H2O, you can use the Web UI at http://localhost:54321\n",
      "For more information visit http://docs.h2o.ai\n",
      "\n",
      "----------------------------------------------------------------------\n",
      "\n",
      "\n",
      "Attaching package: 'h2o'\n",
      "\n",
      "The following objects are masked from 'package:stats':\n",
      "\n",
      "    cor, sd, var\n",
      "\n",
      "The following objects are masked from 'package:base':\n",
      "\n",
      "    %*%, %in%, &&, ||, apply, as.factor, as.numeric, colnames,\n",
      "    colnames<-, ifelse, is.character, is.factor, is.numeric, log,\n",
      "    log10, log1p, log2, round, signif, trunc\n",
      "\n",
      "Loading required package: survival\n",
      "Loading required package: lattice\n",
      "Loading required package: splines\n",
      "Loading required package: parallel\n",
      "Loaded gbm 2.1.1\n"
     ]
    }
   ],
   "source": [
    "library(h2o)\n",
    "library(gbm)"
   ]
  },
  {
   "cell_type": "code",
   "execution_count": 2,
   "metadata": {
    "ExecuteTime": {
     "end_time": "2017-03-16T14:01:07.694000",
     "start_time": "2017-03-16T21:01:04.996Z"
    },
    "collapsed": false
   },
   "outputs": [
    {
     "name": "stdout",
     "output_type": "stream",
     "text": [
      " Connection successful!\n",
      "\n",
      "R is connected to the H2O cluster: \n",
      "    H2O cluster uptime:         6 days 4 hours \n",
      "    H2O cluster version:        3.10.4.1 \n",
      "    H2O cluster version age:    12 days  \n",
      "    H2O cluster name:           denis.perevalov \n",
      "    H2O cluster total nodes:    2 \n",
      "    H2O cluster total memory:   23.02 GB \n",
      "    H2O cluster total cores:    64 \n",
      "    H2O cluster allowed cores:  40 \n",
      "    H2O cluster healthy:        TRUE \n",
      "    H2O Connection ip:          localhost \n",
      "    H2O Connection port:        5777 \n",
      "    H2O Connection proxy:       NA \n",
      "    H2O Internal Security:      FALSE \n",
      "    R Version:                  R version 3.3.2 (2016-10-31) \n",
      "\n"
     ]
    }
   ],
   "source": [
    "# Connecting to the H20 Cluster consisting of frigg and odin. It has 64 logical processors.\n",
    "library(h2o)\n",
    "localH2O = h2o.init(port = 5777)"
   ]
  },
  {
   "cell_type": "code",
   "execution_count": 8,
   "metadata": {
    "ExecuteTime": {
     "end_time": "2017-03-16T14:01:47.275000",
     "start_time": "2017-03-16T21:01:45.082Z"
    },
    "collapsed": false,
    "scrolled": true
   },
   "outputs": [
    {
     "name": "stdout",
     "output_type": "stream",
     "text": [
      "\r",
      "  |                                                                            \r",
      "  |                                                                      |   0%\r",
      "  |                                                                            \r",
      "  |======================================================================| 100%\n"
     ]
    }
   ],
   "source": [
    "## 'path' can point to a local file, hdfs, s3, nfs, Hive, directories, etc.\n",
    "df.hex <- h2o.importFile(path = \"http://s3.amazonaws.com/h2o-public-test-data/smalldata/gbm_test/titanic.csv\")\n",
    "\n",
    "## pick a response for the supervised problem\n",
    "response        <- \"survived\"\n",
    "\n",
    "# H2O GBM needs it to be a factor\n",
    "response_factor <- paste0(response, \"_factor\")\n",
    "## the response variable is an integer, we will turn it into a categorical/factor for binary classification\n",
    "df.hex[[response_factor]] <- as.factor(df.hex[[response]])           \n",
    "\n",
    "## use all other columns (except for the name) as predictors\n",
    "predictors <- setdiff(names(df.hex), c(response, \"name\", response_factor)) "
   ]
  },
  {
   "cell_type": "code",
   "execution_count": 9,
   "metadata": {
    "ExecuteTime": {
     "end_time": "2017-03-16T14:01:50.517000",
     "start_time": "2017-03-16T21:01:50.442Z"
    },
    "collapsed": false
   },
   "outputs": [
    {
     "data": {
      "text/html": [
       "<ol class=list-inline>\n",
       "\t<li>'cabin'</li>\n",
       "\t<li>'embarked'</li>\n",
       "</ol>\n"
      ],
      "text/latex": [
       "\\begin{enumerate*}\n",
       "\\item 'cabin'\n",
       "\\item 'embarked'\n",
       "\\end{enumerate*}\n"
      ],
      "text/markdown": [
       "1. 'cabin'\n",
       "2. 'embarked'\n",
       "\n",
       "\n"
      ],
      "text/plain": [
       "[1] \"cabin\"    \"embarked\""
      ]
     },
     "metadata": {},
     "output_type": "display_data"
    }
   ],
   "source": [
    "# Predictors for GBM\n",
    "predictors_gbm = predictors[8:9]\n",
    "predictors_gbm"
   ]
  },
  {
   "cell_type": "code",
   "execution_count": 10,
   "metadata": {
    "ExecuteTime": {
     "end_time": "2017-03-16T14:01:55.998000",
     "start_time": "2017-03-16T21:01:55.911Z"
    },
    "collapsed": false
   },
   "outputs": [
    {
     "data": {
      "text/html": [
       "<ol class=list-inline>\n",
       "\t<li>'pclass'</li>\n",
       "\t<li>'sex'</li>\n",
       "\t<li>'age'</li>\n",
       "\t<li>'sibsp'</li>\n",
       "\t<li>'parch'</li>\n",
       "\t<li>'ticket'</li>\n",
       "\t<li>'fare'</li>\n",
       "\t<li>'boat'</li>\n",
       "\t<li>'body'</li>\n",
       "\t<li>'home.dest'</li>\n",
       "</ol>\n"
      ],
      "text/latex": [
       "\\begin{enumerate*}\n",
       "\\item 'pclass'\n",
       "\\item 'sex'\n",
       "\\item 'age'\n",
       "\\item 'sibsp'\n",
       "\\item 'parch'\n",
       "\\item 'ticket'\n",
       "\\item 'fare'\n",
       "\\item 'boat'\n",
       "\\item 'body'\n",
       "\\item 'home.dest'\n",
       "\\end{enumerate*}\n"
      ],
      "text/markdown": [
       "1. 'pclass'\n",
       "2. 'sex'\n",
       "3. 'age'\n",
       "4. 'sibsp'\n",
       "5. 'parch'\n",
       "6. 'ticket'\n",
       "7. 'fare'\n",
       "8. 'boat'\n",
       "9. 'body'\n",
       "10. 'home.dest'\n",
       "\n",
       "\n"
      ],
      "text/plain": [
       " [1] \"pclass\"    \"sex\"       \"age\"       \"sibsp\"     \"parch\"     \"ticket\"   \n",
       " [7] \"fare\"      \"boat\"      \"body\"      \"home.dest\""
      ]
     },
     "metadata": {},
     "output_type": "display_data"
    }
   ],
   "source": [
    "# Predictors for GLM\n",
    "predictors_glm = setdiff(predictors, predictors_gbm)\n",
    "predictors_glm"
   ]
  },
  {
   "cell_type": "code",
   "execution_count": 11,
   "metadata": {
    "ExecuteTime": {
     "end_time": "2017-03-16T14:01:56.634000",
     "start_time": "2017-03-16T21:01:55.931Z"
    },
    "collapsed": false
   },
   "outputs": [
    {
     "name": "stdout",
     "output_type": "stream",
     "text": [
      "\r",
      "  |                                                                            \r",
      "  |                                                                      |   0%\r",
      "  |                                                                            \r",
      "  |======================================================================| 100%\n"
     ]
    }
   ],
   "source": [
    "# Build GLM. It's going to be the offset\n",
    "glm_model <- h2o.glm(x = predictors_glm,\n",
    "                     y     = \"survived\",\n",
    "                     family=\"binomial\",\n",
    "                     training_frame = df.hex)\n"
   ]
  },
  {
   "cell_type": "code",
   "execution_count": 12,
   "metadata": {
    "ExecuteTime": {
     "end_time": "2017-03-16T14:01:58.038000",
     "start_time": "2017-03-16T21:01:55.950Z"
    },
    "collapsed": false
   },
   "outputs": [
    {
     "name": "stdout",
     "output_type": "stream",
     "text": [
      "\r",
      "  |                                                                            \r",
      "  |                                                                      |   0%\r",
      "  |                                                                            \r",
      "  |======================================================================| 100%\n"
     ]
    }
   ],
   "source": [
    "# Get Probabilities from GLM\n",
    "df.hex$Probability     = h2o.predict(glm_model, newdata = df.hex)$p1\n",
    "df.hex$ProbabilityLink = log(df.hex$Probability / (1.0 - df.hex$Probability))"
   ]
  },
  {
   "cell_type": "code",
   "execution_count": 14,
   "metadata": {
    "ExecuteTime": {
     "end_time": "2017-03-16T14:02:07.333000",
     "start_time": "2017-03-16T21:02:07.030Z"
    },
    "collapsed": false
   },
   "outputs": [
    {
     "data": {
      "text/html": [
       "2.12875516349256"
      ],
      "text/latex": [
       "2.12875516349256"
      ],
      "text/markdown": [
       "2.12875516349256"
      ],
      "text/plain": [
       "[1] 2.128755"
      ]
     },
     "metadata": {},
     "output_type": "display_data"
    }
   ],
   "source": [
    "# Maximum of link could be greater than 1\n",
    "max(df.hex$ProbabilityLink)"
   ]
  },
  {
   "cell_type": "code",
   "execution_count": 15,
   "metadata": {
    "ExecuteTime": {
     "end_time": "2017-03-16T14:02:16.033000",
     "start_time": "2017-03-16T21:02:15.909Z"
    },
    "collapsed": true
   },
   "outputs": [],
   "source": [
    "# Convert to R dataframe\n",
    "df = as.data.frame(df.hex)"
   ]
  },
  {
   "cell_type": "code",
   "execution_count": 16,
   "metadata": {
    "ExecuteTime": {
     "end_time": "2017-03-16T14:02:17.127000",
     "start_time": "2017-03-16T21:02:15.923Z"
    },
    "collapsed": false,
    "scrolled": true
   },
   "outputs": [
    {
     "name": "stdout",
     "output_type": "stream",
     "text": [
      "Iter   TrainDeviance   ValidDeviance   StepSize   Improve\n",
      "     1        0.9559             nan     0.0010    0.0000\n",
      "     2        0.9558             nan     0.0010    0.0000\n",
      "     3        0.9556             nan     0.0010    0.0000\n",
      "     4        0.9554             nan     0.0010    0.0000\n",
      "     5        0.9553             nan     0.0010    0.0000\n",
      "     6        0.9551             nan     0.0010    0.0000\n",
      "     7        0.9550             nan     0.0010    0.0000\n",
      "     8        0.9548             nan     0.0010    0.0000\n",
      "     9        0.9546             nan     0.0010    0.0000\n",
      "    10        0.9545             nan     0.0010    0.0000\n",
      "    20        0.9529             nan     0.0010    0.0000\n",
      "    40        0.9499             nan     0.0010    0.0000\n",
      "    60        0.9470             nan     0.0010    0.0000\n",
      "    80        0.9441             nan     0.0010    0.0000\n",
      "   100        0.9413             nan     0.0010    0.0000\n",
      "   120        0.9387             nan     0.0010    0.0000\n",
      "   140        0.9360             nan     0.0010    0.0000\n",
      "   160        0.9336             nan     0.0010    0.0000\n",
      "   180        0.9311             nan     0.0010    0.0000\n",
      "   200        0.9287             nan     0.0010    0.0000\n",
      "   220        0.9262             nan     0.0010    0.0000\n",
      "   240        0.9239             nan     0.0010    0.0000\n",
      "   260        0.9218             nan     0.0010    0.0000\n",
      "   280        0.9197             nan     0.0010   -0.0000\n",
      "   300        0.9176             nan     0.0010    0.0000\n",
      "   320        0.9155             nan     0.0010    0.0000\n",
      "   340        0.9135             nan     0.0010    0.0000\n",
      "   360        0.9115             nan     0.0010    0.0000\n",
      "   380        0.9097             nan     0.0010   -0.0000\n",
      "   400        0.9078             nan     0.0010   -0.0000\n",
      "   420        0.9061             nan     0.0010   -0.0000\n",
      "   440        0.9042             nan     0.0010    0.0000\n",
      "   460        0.9024             nan     0.0010    0.0000\n",
      "   480        0.9008             nan     0.0010   -0.0000\n",
      "   500        0.8991             nan     0.0010   -0.0000\n",
      "   520        0.8975             nan     0.0010    0.0000\n",
      "   540        0.8960             nan     0.0010    0.0000\n",
      "   560        0.8944             nan     0.0010   -0.0000\n",
      "   580        0.8929             nan     0.0010   -0.0000\n",
      "   600        0.8913             nan     0.0010   -0.0000\n",
      "   620        0.8898             nan     0.0010   -0.0000\n",
      "   640        0.8884             nan     0.0010   -0.0000\n",
      "   660        0.8870             nan     0.0010   -0.0000\n",
      "   680        0.8856             nan     0.0010   -0.0000\n",
      "   700        0.8843             nan     0.0010   -0.0000\n",
      "   720        0.8830             nan     0.0010   -0.0000\n",
      "   740        0.8818             nan     0.0010   -0.0000\n",
      "   760        0.8805             nan     0.0010   -0.0000\n",
      "   780        0.8793             nan     0.0010   -0.0000\n",
      "   800        0.8781             nan     0.0010   -0.0000\n",
      "   820        0.8770             nan     0.0010    0.0000\n",
      "   840        0.8758             nan     0.0010   -0.0000\n",
      "   860        0.8746             nan     0.0010   -0.0000\n",
      "   880        0.8735             nan     0.0010   -0.0000\n",
      "   900        0.8725             nan     0.0010   -0.0000\n",
      "   920        0.8715             nan     0.0010   -0.0000\n",
      "   940        0.8704             nan     0.0010   -0.0000\n",
      "   960        0.8693             nan     0.0010   -0.0000\n",
      "   980        0.8683             nan     0.0010   -0.0000\n",
      "  1000        0.8673             nan     0.0010   -0.0000\n",
      "\n"
     ]
    }
   ],
   "source": [
    "gbm_model <- gbm.fit(x=df[,predictors_gbm], y=df[[response]], distribution=\"bernoulli\", offset=df[[\"ProbabilityLink\"]], n.trees=1000)\n"
   ]
  },
  {
   "cell_type": "code",
   "execution_count": 17,
   "metadata": {
    "ExecuteTime": {
     "end_time": "2017-03-16T14:02:17.197000",
     "start_time": "2017-03-16T21:02:15.964Z"
    },
    "collapsed": false,
    "scrolled": true
   },
   "outputs": [],
   "source": [
    "# get Probabilities\n",
    "get_pred = function(model, data, type=\"response\", offset=0, n.trees=1){\n",
    "    if(class(model) == \"gbm\"){\n",
    "        prediction = predict(model, newdata=data, type=type, n.trees = n.trees) + offset\n",
    "        # If Link, convert it back to probability\n",
    "        if(type == \"link\"){\n",
    "            prediction = 1.0 / (1.0 + exp(-prediction))\n",
    "        }\n",
    "    }else{\n",
    "        # H2O always predicts probabilities\n",
    "        prediction = predict(model, newdata=data)$p1\n",
    "    }\n",
    "    prediction\n",
    "}\n",
    "\n",
    "# Negative Log Likelihood (Same as LogLoss)\n",
    "# The lower - the better\n",
    "get_nll = function(model, data, truth=NULL, offset=0, n.trees=1){\n",
    "    if(is.null(truth)){\n",
    "        truth = data$survived\n",
    "    }\n",
    "    \n",
    "    prediction = get_pred(model=model, data=data, type=\"link\", offset=offset, n.trees=n.trees)\n",
    "    \n",
    "    logprob    = log(prediction + 0.0000001)\n",
    "    logprob2   = log(1.0 - prediction - 0.0000001)\n",
    "    ytrue = as.numeric(truth)\n",
    "    llk        = ytrue * logprob + (1.0 - ytrue) * logprob2\n",
    "    -mean(llk)\n",
    "}"
   ]
  },
  {
   "cell_type": "code",
   "execution_count": 18,
   "metadata": {
    "ExecuteTime": {
     "end_time": "2017-03-16T14:02:32.012000",
     "start_time": "2017-03-16T21:02:15.978Z"
    },
    "collapsed": false
   },
   "outputs": [],
   "source": [
    "# Calculate LogLoss for GBM\n",
    "logloss = sapply(1:1000, function(x) get_nll(gbm_model, df[,predictors_gbm], truth=df$survived, offset = df$ProbabilityLink, n.trees=x))"
   ]
  },
  {
   "cell_type": "code",
   "execution_count": 19,
   "metadata": {
    "ExecuteTime": {
     "end_time": "2017-03-16T14:02:33.527000",
     "start_time": "2017-03-16T21:02:15.992Z"
    },
    "collapsed": false,
    "scrolled": true
   },
   "outputs": [
    {
     "name": "stdout",
     "output_type": "stream",
     "text": [
      "\r",
      "  |                                                                            \r",
      "  |                                                                      |   0%\r",
      "  |                                                                            \r",
      "  |======================================================================| 100%\n"
     ]
    },
    {
     "data": {
      "image/png": "[encoded data removed]",
      "text/plain": [
       "plot without title"
      ]
     },
     "metadata": {},
     "output_type": "display_data"
    }
   ],
   "source": [
    "# Plot Log Loss for GBM as a function of trees\n",
    "plot(logloss)\n",
    "# Plot Log Loss for glm as red hirizontal line\n",
    "abline(h=get_nll(glm_model, df.hex), col=2)"
   ]
  },
  {
   "cell_type": "code",
   "execution_count": 20,
   "metadata": {
    "ExecuteTime": {
     "end_time": "2017-03-16T14:02:33.954000",
     "start_time": "2017-03-16T21:02:16.010Z"
    },
    "collapsed": false,
    "scrolled": true
   },
   "outputs": [
    {
     "name": "stdout",
     "output_type": "stream",
     "text": [
      "\r",
      "  |                                                                            \r",
      "  |                                                                      |   0%\n",
      "\n",
      "water.exceptions.H2OModelBuilderIllegalArgumentException: Illegal argument(s) for GBM model: GBM_model_R_1489164084643_3576.  Details: ERRR on field: _offset_column: Offset cannot be larger than 1 for Bernoulli distribution.\n",
      "\n",
      "\n",
      "water.exceptions.H2OModelBuilderIllegalArgumentException: Illegal argument(s) for GBM model: GBM_model_R_1489164084643_3576.  Details: ERRR on field: _offset_column: Offset cannot be larger than 1 for Bernoulli distribution.\n",
      "\r\n",
      "\tat water.exceptions.H2OModelBuilderIllegalArgumentException.makeFromBuilder(H2OModelBuilderIllegalArgumentException.java:20)\r\n",
      "\tat hex.tree.SharedTree$Driver.computeImpl(SharedTree.java:173)\r\n",
      "\tat hex.ModelBuilder$Driver.compute2(ModelBuilder.java:169)\r\n",
      "\tat water.H2O$H2OCountedCompleter.compute(H2O.java:1192)\r\n",
      "\tat jsr166y.CountedCompleter.exec(CountedCompleter.java:468)\r\n",
      "\tat jsr166y.ForkJoinTask.doExec(ForkJoinTask.java:263)\r\n",
      "\tat jsr166y.ForkJoinPool$WorkQueue.runTask(ForkJoinPool.java:974)\r\n",
      "\tat jsr166y.ForkJoinPool.runWorker(ForkJoinPool.java:1477)\r\n",
      "\tat jsr166y.ForkJoinWorkerThread.run(ForkJoinWorkerThread.java:104)\r\n",
      "\n"
     ]
    },
    {
     "ename": "ERROR",
     "evalue": "Error: water.exceptions.H2OModelBuilderIllegalArgumentException: Illegal argument(s) for GBM model: GBM_model_R_1489164084643_3576.  Details: ERRR on field: _offset_column: Offset cannot be larger than 1 for Bernoulli distribution.\n",
     "output_type": "error",
     "traceback": [
      "Error: water.exceptions.H2OModelBuilderIllegalArgumentException: Illegal argument(s) for GBM model: GBM_model_R_1489164084643_3576.  Details: ERRR on field: _offset_column: Offset cannot be larger than 1 for Bernoulli distribution.\nTraceback:\n",
      "1. h2o.gbm(x = predictors_gbm, , y = response_factor, distribution = \"bernoulli\", \n .     training_frame = df.hex, ntrees = 1, score_each_iteration = F, \n .     max_depth = 4, learn_rate = 5e-06, offset_column = \"ProbabilityLink\")",
      "2. .h2o.modelJob(\"gbm\", parms, h2oRestApiVersion = 3)",
      "3. h2o.getFutureModel(job)",
      "4. .h2o.__waitOnJob(object@job_key)",
      "5. tryCatch({\n .     while (keepRunning) {\n .         myJobUrlSuffix <- paste0(.h2o.__JOBS, \"/\", job_key)\n .         rawResponse <- .h2o.doSafeGET(urlSuffix = myJobUrlSuffix)\n .         jsonObject <- .h2o.fromJSON(jsonlite::fromJSON(rawResponse, \n .             simplifyDataFrame = FALSE))\n .         jobs <- jsonObject$jobs\n .         if (length(jobs) > 1) {\n .             stop(\"Job list has more than 1 entry\")\n .         }\n .         else if (length(jobs) == 0) {\n .             stop(\"Job list is empty\")\n .         }\n .         job = jobs[[1]]\n .         status = job$status\n .         stopifnot(is.character(status))\n .         if (status == \"FAILED\") {\n .             cat(\"\\n\\n\")\n .             cat(job$exception)\n .             cat(\"\\n\\n\")\n .             if (!is.null(job$stacktrace)) {\n .                 cat(job$stacktrace)\n .             }\n .             cat(\"\\n\")\n .             m <- strsplit(jobs[[1]]$exception, \"\\n\")[[1]][1]\n .             m <- gsub(\".*msg \", \"\", m)\n .             stop(m, call. = FALSE)\n .         }\n .         if (status == \"CANCELLED\") {\n .             stop(\"Job key \", job_key, \" cancelled by user\")\n .         }\n .         key = job$key\n .         name = key$name\n .         if (name != job_key) {\n .             message <- sprintf(\"Job %s not found in job list\", \n .                 job_key)\n .             stop(message)\n .         }\n .         if (progressBar) {\n .             progress = job$progress\n .             if (is.numeric(progress)) {\n .                 setTxtProgressBar(pb, progress)\n .             }\n .         }\n .         if ((status == \"CREATED\") || (status == \"RUNNING\")) {\n .         }\n .         else {\n .             stopifnot(status == \"DONE\")\n .             keepRunning <- FALSE\n .         }\n .         if (keepRunning) {\n .             Sys.sleep(pollInterval)\n .         }\n .         else {\n .             if (progressBar) {\n .                 close(pb)\n .             }\n .             for (w in job$warnings) {\n .                 warning(w)\n .             }\n .         }\n .     }\n . }, interrupt = function(x) {\n .     url.suf <- paste0(.h2o.__JOBS, \"/\", job_key, \"/cancel\")\n .     .h2o.doSafePOST(urlSuffix = url.suf)\n .     message(paste0(\"\\nJob \", job_key, \" was cancelled.\\n\"))\n .     return()\n . })",
      "6. tryCatchList(expr, classes, parentenv, handlers)",
      "7. tryCatchOne(expr, names, parentenv, handlers[[1L]])",
      "8. doTryCatch(return(expr), name, parentenv, handler)",
      "9. stop(m, call. = FALSE)"
     ]
    }
   ],
   "source": [
    "# Try to do the same for H2O GBM\n",
    "h2o_gbm_model = h2o.gbm(x = predictors_gbm,\n",
    "                         ,y                    = response_factor\n",
    "                         ,distribution         = \"bernoulli\"\n",
    "                         ,training_frame       = df.hex\n",
    "                         ,ntrees               = 1\n",
    "                         ,score_each_iteration = F\n",
    "                         ,max_depth            = 4\n",
    "                         ,learn_rate           = 0.000005\n",
    "                         ,offset_column        = \"ProbabilityLink\"\n",
    ")"
   ]
  },
  {
   "cell_type": "markdown",
   "metadata": {},
   "source": [
    "So, why is that **Offset cannot be larger than 1 for Bernoulli distribution**?"
   ]
  }
 ],
 "metadata": {
  "hide_input": false,
  "kernelspec": {
   "display_name": "R",
   "language": "R",
   "name": "ir"
  },
  "language_info": {
   "codemirror_mode": "r",
   "file_extension": ".r",
   "mimetype": "text/x-r-source",
   "name": "R",
   "pygments_lexer": "r",
   "version": "3.3.2"
  },
  "latex_envs": {
   "bibliofile": "biblio.bib",
   "cite_by": "apalike",
   "current_citInitial": 1,
   "eqLabelWithNumbers": true,
   "eqNumInitial": 0
  }
 },
 "nbformat": 4,
 "nbformat_minor": 0
}
