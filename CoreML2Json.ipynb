{
 "cells": [
  {
   "cell_type": "code",
   "execution_count": 1,
   "metadata": {},
   "outputs": [],
   "source": [
    "import xgboost as xgb"
   ]
  },
  {
   "cell_type": "code",
   "execution_count": 4,
   "metadata": {},
   "outputs": [
    {
     "name": "stdout",
     "output_type": "stream",
     "text": [
      "[1.0666666 2.0246913 3.0222223 3.8024693] \n",
      "\n",
      "0:[f0<0.2] yes=1,no=2,missing=1\n",
      "\t1:leaf=1.33333\n",
      "\t2:leaf=3.11111\n",
      "\n",
      "0:[f1<-9.53674e-07] yes=1,no=2,missing=1\n",
      "\t1:[f0<0.2] yes=3,no=4,missing=3\n",
      "\t\t3:leaf=-0.266667\n",
      "\t\t4:leaf=-0.0888889\n",
      "\t2:leaf=0.691358\n",
      "\n"
     ]
    }
   ],
   "source": [
    "from xgboost import XGBRegressor\n",
    "X = [[.1, 0], [.1, 1], [.3, 0], [.3, 1],]*4\n",
    "y = [1, 2, 3, 4,]*4\n",
    "\n",
    "regressor = XGBRegressor(n_estimators=2, learning_rate=1.0, subsample=1.0, base_score=0)\n",
    "regressor.fit(X, y)\n",
    "print(regressor.predict(X[:4]), '\\n')\n",
    "for line in regressor.get_booster().get_dump(): \n",
    "    print(line)"
   ]
  },
  {
   "cell_type": "code",
   "execution_count": 6,
   "metadata": {
    "collapsed": true
   },
   "outputs": [],
   "source": [
    "booster = regressor.get_booster()"
   ]
  },
  {
   "cell_type": "code",
   "execution_count": 70,
   "metadata": {},
   "outputs": [
    {
     "data": {
      "text/plain": [
       "[{'children': [{'leaf': 1.33333, 'nodeid': 1}, {'leaf': 3.11111, 'nodeid': 2}],\n",
       "  'depth': 0,\n",
       "  'missing': 1,\n",
       "  'no': 2,\n",
       "  'nodeid': 0,\n",
       "  'split': 'f0',\n",
       "  'split_condition': 0.2,\n",
       "  'yes': 1},\n",
       " {'children': [{'children': [{'leaf': -0.266667, 'nodeid': 3},\n",
       "     {'leaf': -0.0888889, 'nodeid': 4}],\n",
       "    'depth': 1,\n",
       "    'missing': 3,\n",
       "    'no': 4,\n",
       "    'nodeid': 1,\n",
       "    'split': 'f0',\n",
       "    'split_condition': 0.2,\n",
       "    'yes': 3},\n",
       "   {'leaf': 0.691358, 'nodeid': 2}],\n",
       "  'depth': 0,\n",
       "  'missing': 1,\n",
       "  'no': 2,\n",
       "  'nodeid': 0,\n",
       "  'split': 'f1',\n",
       "  'split_condition': -9.53674e-07,\n",
       "  'yes': 1}]"
      ]
     },
     "execution_count": 70,
     "metadata": {},
     "output_type": "execute_result"
    }
   ],
   "source": [
    "out = booster.get_dump(dump_format=\"json\", with_stats=False)\n",
    "tt = []\n",
    "for i in out:\n",
    "    tt.append(eval(i))\n",
    "tt"
   ]
  },
  {
   "cell_type": "code",
   "execution_count": 65,
   "metadata": {},
   "outputs": [
    {
     "data": {
      "text/plain": [
       "[{'children': [{'cover': 8, 'leaf': 1.33333, 'nodeid': 1},\n",
       "   {'cover': 8, 'leaf': 3.11111, 'nodeid': 2}],\n",
       "  'cover': 16,\n",
       "  'depth': 0,\n",
       "  'gain': 8.99347,\n",
       "  'missing': 1,\n",
       "  'no': 2,\n",
       "  'nodeid': 0,\n",
       "  'split': 'f0',\n",
       "  'split_condition': 0.2,\n",
       "  'yes': 1},\n",
       " {'children': [{'children': [{'cover': 4, 'leaf': -0.266667, 'nodeid': 3},\n",
       "     {'cover': 4, 'leaf': -0.0888889, 'nodeid': 4}],\n",
       "    'cover': 8,\n",
       "    'depth': 1,\n",
       "    'gain': 0.0438957,\n",
       "    'missing': 3,\n",
       "    'no': 4,\n",
       "    'nodeid': 1,\n",
       "    'split': 'f0',\n",
       "    'split_condition': 0.2,\n",
       "    'yes': 3},\n",
       "   {'cover': 8, 'leaf': 0.691358, 'nodeid': 2}],\n",
       "  'cover': 16,\n",
       "  'depth': 0,\n",
       "  'gain': 3.491,\n",
       "  'missing': 1,\n",
       "  'no': 2,\n",
       "  'nodeid': 0,\n",
       "  'split': 'f1',\n",
       "  'split_condition': -9.53674e-07,\n",
       "  'yes': 1}]"
      ]
     },
     "execution_count": 65,
     "metadata": {},
     "output_type": "execute_result"
    }
   ],
   "source": [
    "tt = []\n",
    "for i in out:\n",
    "    tt.append(eval(i))\n",
    "tt"
   ]
  },
  {
   "cell_type": "code",
   "execution_count": 21,
   "metadata": {
    "collapsed": true
   },
   "outputs": [],
   "source": [
    "import coremltools"
   ]
  },
  {
   "cell_type": "code",
   "execution_count": 58,
   "metadata": {},
   "outputs": [],
   "source": [
    "from coremltools.models.tree_ensemble import TreeEnsembleRegressor as _TreeEnsembleRegressor\n",
    "\n",
    "from coremltools._deps import HAS_XGBOOST as _HAS_XGBOOST\n",
    "\n",
    "from coremltools.converters.xgboost._tree_ensemble import recurse_json\n",
    "\n",
    "import numpy as _np\n",
    "\n",
    "if _HAS_XGBOOST:\n",
    "    import xgboost as _xgboost\n",
    "\n",
    "def my_convert_tree_ensemble(model, feature_names = None, target = 'target', force_32bit_float = True):\n",
    "    \"\"\"Convert a generic tree model to the protobuf spec.\n",
    "    This currently supports:\n",
    "      * Decision tree regression\n",
    "    Parameters\n",
    "    ----------\n",
    "    model: str | Booster\n",
    "        Path on disk where the XGboost JSON representation of the model is or\n",
    "        a handle to the XGboost model.\n",
    "    feature_names : list of strings or None\n",
    "        Names of each of the features. When set to None, the feature names are\n",
    "        extracted from the model.\n",
    "    target: str,\n",
    "        Name of the output column.\n",
    "    force_32bit_float: bool\n",
    "        If True, then the resulting CoreML model will use 32 bit floats internally.\n",
    "    Returns\n",
    "    -------\n",
    "    model_spec: An object of type Model_pb.\n",
    "        Protobuf representation of the model\n",
    "    \"\"\"\n",
    "    if not(_HAS_XGBOOST):\n",
    "        raise RuntimeError('xgboost not found. xgboost conversion API is disabled.')\n",
    "    \n",
    "    import json\n",
    "    import os\n",
    "    feature_map = None\n",
    "    if isinstance(model,  (_xgboost.core.Booster, _xgboost.XGBRegressor)):\n",
    "\n",
    "        # Testing a few corner cases that we don't support\n",
    "        if isinstance(model, _xgboost.XGBRegressor):\n",
    "            try:\n",
    "                objective = model.get_xgb_params()[\"objective\"]\n",
    "            except:\n",
    "                objective = None\n",
    "            if objective in [\"reg:gamma\", \"reg:tweedie\"]:\n",
    "                raise ValueError(\"Regression objective '%s' not supported for export.\" % objective)\n",
    "\n",
    "        # Now use the booster API.\n",
    "        if isinstance(model, _xgboost.XGBRegressor):\n",
    "            # Name change in 0.7\n",
    "            if hasattr(model, 'get_booster'):\n",
    "                model = model.get_booster()\n",
    "            else:\n",
    "                model = model.booster()\n",
    "\n",
    "        # Xgboost sometimes has feature names in there. Sometimes does not.\n",
    "        if (feature_names is None) and (model.feature_names is None):\n",
    "            raise ValueError(\"Feature names not present in the model. Must be provided during conversion.\")\n",
    "            feature_names = model.feature_names\n",
    "        if feature_names is None:\n",
    "            feature_names = model.feature_names\n",
    "\n",
    "        xgb_model_str = model.get_dump(with_stats=True, dump_format = 'json')\n",
    "\n",
    "        if model.feature_names:\n",
    "            feature_map = {f:i for i,f in enumerate(model.feature_names)}\n",
    "\n",
    "    # Path on the file system where the XGboost model exists.\n",
    "    elif isinstance(model, str):\n",
    "        if not os.path.exists(model):\n",
    "            raise TypeError(\"Invalid path %s.\" % model)\n",
    "        with open(model) as f:\n",
    "            xgb_model_str = json.load(f)\n",
    "        feature_map = {f:i for i,f in enumerate(feature_names)}\n",
    "    else:\n",
    "        raise TypeError(\"Unexpected type. Expecting XGBoost model.\")\n",
    "\n",
    "    mlkit_tree = _TreeEnsembleRegressor(feature_names, target)\n",
    "    mlkit_tree.set_default_prediction_value(0.5)\n",
    "    for xgb_tree_id, xgb_tree_str in enumerate(xgb_model_str):\n",
    "        xgb_tree_json = json.loads(xgb_tree_str)\n",
    "        recurse_json(mlkit_tree, xgb_tree_json, xgb_tree_id, node_id = 0,\n",
    "                feature_map = feature_map, force_32bit_float = force_32bit_float)\n",
    "\n",
    "    return mlkit_tree"
   ]
  },
  {
   "cell_type": "code",
   "execution_count": 59,
   "metadata": {},
   "outputs": [],
   "source": [
    "core_ml_model2 = my_convert_tree_ensemble(model=booster)"
   ]
  },
  {
   "cell_type": "code",
   "execution_count": 63,
   "metadata": {},
   "outputs": [
    {
     "data": {
      "text/plain": [
       "nodes {\n",
       "  nodeBehavior: BranchOnValueLessThan\n",
       "  branchFeatureValue: 0.20000000298023224\n",
       "  trueChildNodeId: 1\n",
       "  falseChildNodeId: 2\n",
       "  missingValueTracksTrueChild: true\n",
       "  relativeHitRate: 16.0\n",
       "}\n",
       "nodes {\n",
       "  nodeId: 1\n",
       "  nodeBehavior: LeafNode\n",
       "  evaluationInfo {\n",
       "    evaluationValue: 1.3333300352096558\n",
       "  }\n",
       "  relativeHitRate: 8.0\n",
       "}\n",
       "nodes {\n",
       "  nodeId: 2\n",
       "  nodeBehavior: LeafNode\n",
       "  evaluationInfo {\n",
       "    evaluationValue: 3.111109972000122\n",
       "  }\n",
       "  relativeHitRate: 8.0\n",
       "}\n",
       "nodes {\n",
       "  treeId: 1\n",
       "  nodeBehavior: BranchOnValueLessThan\n",
       "  branchFeatureIndex: 1\n",
       "  branchFeatureValue: -9.536739753457368e-07\n",
       "  trueChildNodeId: 1\n",
       "  falseChildNodeId: 2\n",
       "  missingValueTracksTrueChild: true\n",
       "  relativeHitRate: 16.0\n",
       "}\n",
       "nodes {\n",
       "  treeId: 1\n",
       "  nodeId: 1\n",
       "  nodeBehavior: BranchOnValueLessThan\n",
       "  branchFeatureValue: 0.20000000298023224\n",
       "  trueChildNodeId: 3\n",
       "  falseChildNodeId: 4\n",
       "  missingValueTracksTrueChild: true\n",
       "  relativeHitRate: 8.0\n",
       "}\n",
       "nodes {\n",
       "  treeId: 1\n",
       "  nodeId: 3\n",
       "  nodeBehavior: LeafNode\n",
       "  evaluationInfo {\n",
       "    evaluationValue: -0.2666670083999634\n",
       "  }\n",
       "  relativeHitRate: 4.0\n",
       "}\n",
       "nodes {\n",
       "  treeId: 1\n",
       "  nodeId: 4\n",
       "  nodeBehavior: LeafNode\n",
       "  evaluationInfo {\n",
       "    evaluationValue: -0.08888889849185944\n",
       "  }\n",
       "  relativeHitRate: 4.0\n",
       "}\n",
       "nodes {\n",
       "  treeId: 1\n",
       "  nodeId: 2\n",
       "  nodeBehavior: LeafNode\n",
       "  evaluationInfo {\n",
       "    evaluationValue: 0.6913579702377319\n",
       "  }\n",
       "  relativeHitRate: 8.0\n",
       "}\n",
       "numPredictionDimensions: 1\n",
       "basePredictionValue: 0.5"
      ]
     },
     "execution_count": 63,
     "metadata": {},
     "output_type": "execute_result"
    }
   ],
   "source": [
    "core_ml_model2.tree_parameters"
   ]
  },
  {
   "cell_type": "code",
   "execution_count": 22,
   "metadata": {
    "collapsed": true
   },
   "outputs": [],
   "source": [
    "core_ml_model = coremltools.converters.xgboost.convert(model=booster)"
   ]
  },
  {
   "cell_type": "code",
   "execution_count": 47,
   "metadata": {},
   "outputs": [
    {
     "data": {
      "text/plain": [
       "coremltools.models.model.MLModel"
      ]
     },
     "execution_count": 47,
     "metadata": {},
     "output_type": "execute_result"
    }
   ],
   "source": [
    "core_ml_model.__class__"
   ]
  },
  {
   "cell_type": "code",
   "execution_count": 49,
   "metadata": {},
   "outputs": [
    {
     "ename": "TypeError",
     "evalue": "'str' object is not callable",
     "output_type": "error",
     "traceback": [
      "\u001b[0;31m---------------------------------------------------------------------------\u001b[0m",
      "\u001b[0;31mTypeError\u001b[0m                                 Traceback (most recent call last)",
      "\u001b[0;32m<ipython-input-49-4691507a2117>\u001b[0m in \u001b[0;36m<module>\u001b[0;34m()\u001b[0m\n\u001b[0;32m----> 1\u001b[0;31m \u001b[0mcore_ml_model\u001b[0m\u001b[0;34m.\u001b[0m\u001b[0mshort_description\u001b[0m\u001b[0;34m(\u001b[0m\u001b[0;34m)\u001b[0m\u001b[0;34m\u001b[0m\u001b[0m\n\u001b[0m",
      "\u001b[0;31mTypeError\u001b[0m: 'str' object is not callable"
     ]
    }
   ],
   "source": [
    "core_ml_model."
   ]
  },
  {
   "cell_type": "code",
   "execution_count": 33,
   "metadata": {},
   "outputs": [],
   "source": [
    "spec = core_ml_model.get_spec()"
   ]
  },
  {
   "cell_type": "code",
   "execution_count": 46,
   "metadata": {},
   "outputs": [
    {
     "data": {
      "text/plain": [
       "Model_pb2.Model"
      ]
     },
     "execution_count": 46,
     "metadata": {},
     "output_type": "execute_result"
    }
   ],
   "source": [
    "spec.__class__"
   ]
  },
  {
   "cell_type": "code",
   "execution_count": 43,
   "metadata": {},
   "outputs": [],
   "source": [
    "spec_str = str(spec)"
   ]
  },
  {
   "cell_type": "code",
   "execution_count": 45,
   "metadata": {},
   "outputs": [
    {
     "data": {
      "text/plain": [
       "specificationVersion: 1\n",
       "description {\n",
       "  input {\n",
       "    name: \"f0\"\n",
       "    type {\n",
       "      doubleType {\n",
       "      }\n",
       "    }\n",
       "  }\n",
       "  input {\n",
       "    name: \"f1\"\n",
       "    type {\n",
       "      doubleType {\n",
       "      }\n",
       "    }\n",
       "  }\n",
       "  output {\n",
       "    name: \"target\"\n",
       "    type {\n",
       "      doubleType {\n",
       "      }\n",
       "    }\n",
       "  }\n",
       "  predictedFeatureName: \"target\"\n",
       "}\n",
       "treeEnsembleRegressor {\n",
       "  treeEnsemble {\n",
       "    nodes {\n",
       "      nodeBehavior: BranchOnValueLessThan\n",
       "      branchFeatureValue: 0.20000000298023224\n",
       "      trueChildNodeId: 1\n",
       "      falseChildNodeId: 2\n",
       "      missingValueTracksTrueChild: true\n",
       "      relativeHitRate: 16.0\n",
       "    }\n",
       "    nodes {\n",
       "      nodeId: 1\n",
       "      nodeBehavior: LeafNode\n",
       "      evaluationInfo {\n",
       "        evaluationValue: 1.3333300352096558\n",
       "      }\n",
       "      relativeHitRate: 8.0\n",
       "    }\n",
       "    nodes {\n",
       "      nodeId: 2\n",
       "      nodeBehavior: LeafNode\n",
       "      evaluationInfo {\n",
       "        evaluationValue: 3.111109972000122\n",
       "      }\n",
       "      relativeHitRate: 8.0\n",
       "    }\n",
       "    nodes {\n",
       "      treeId: 1\n",
       "      nodeBehavior: BranchOnValueLessThan\n",
       "      branchFeatureIndex: 1\n",
       "      branchFeatureValue: -9.536739753457368e-07\n",
       "      trueChildNodeId: 1\n",
       "      falseChildNodeId: 2\n",
       "      missingValueTracksTrueChild: true\n",
       "      relativeHitRate: 16.0\n",
       "    }\n",
       "    nodes {\n",
       "      treeId: 1\n",
       "      nodeId: 1\n",
       "      nodeBehavior: BranchOnValueLessThan\n",
       "      branchFeatureValue: 0.20000000298023224\n",
       "      trueChildNodeId: 3\n",
       "      falseChildNodeId: 4\n",
       "      missingValueTracksTrueChild: true\n",
       "      relativeHitRate: 8.0\n",
       "    }\n",
       "    nodes {\n",
       "      treeId: 1\n",
       "      nodeId: 3\n",
       "      nodeBehavior: LeafNode\n",
       "      evaluationInfo {\n",
       "        evaluationValue: -0.2666670083999634\n",
       "      }\n",
       "      relativeHitRate: 4.0\n",
       "    }\n",
       "    nodes {\n",
       "      treeId: 1\n",
       "      nodeId: 4\n",
       "      nodeBehavior: LeafNode\n",
       "      evaluationInfo {\n",
       "        evaluationValue: -0.08888889849185944\n",
       "      }\n",
       "      relativeHitRate: 4.0\n",
       "    }\n",
       "    nodes {\n",
       "      treeId: 1\n",
       "      nodeId: 2\n",
       "      nodeBehavior: LeafNode\n",
       "      evaluationInfo {\n",
       "        evaluationValue: 0.6913579702377319\n",
       "      }\n",
       "      relativeHitRate: 8.0\n",
       "    }\n",
       "    numPredictionDimensions: 1\n",
       "    basePredictionValue: 0.5\n",
       "  }\n",
       "}"
      ]
     },
     "execution_count": 45,
     "metadata": {},
     "output_type": "execute_result"
    }
   ],
   "source": [
    "spec."
   ]
  },
  {
   "cell_type": "code",
   "execution_count": 44,
   "metadata": {},
   "outputs": [
    {
     "data": {
      "text/plain": [
       "'specificationVersion: 1\\ndescription {\\n  input {\\n    name: \"f0\"\\n    type {\\n      doubleType {\\n      }\\n    }\\n  }\\n  input {\\n    name: \"f1\"\\n    type {\\n      doubleType {\\n      }\\n    }\\n  }\\n  output {\\n    name: \"target\"\\n    type {\\n      doubleType {\\n      }\\n    }\\n  }\\n  predictedFeatureName: \"target\"\\n}\\ntreeEnsembleRegressor {\\n  treeEnsemble {\\n    nodes {\\n      nodeBehavior: BranchOnValueLessThan\\n      branchFeatureValue: 0.20000000298023224\\n      trueChildNodeId: 1\\n      falseChildNodeId: 2\\n      missingValueTracksTrueChild: true\\n      relativeHitRate: 16.0\\n    }\\n    nodes {\\n      nodeId: 1\\n      nodeBehavior: LeafNode\\n      evaluationInfo {\\n        evaluationValue: 1.3333300352096558\\n      }\\n      relativeHitRate: 8.0\\n    }\\n    nodes {\\n      nodeId: 2\\n      nodeBehavior: LeafNode\\n      evaluationInfo {\\n        evaluationValue: 3.111109972000122\\n      }\\n      relativeHitRate: 8.0\\n    }\\n    nodes {\\n      treeId: 1\\n      nodeBehavior: BranchOnValueLessThan\\n      branchFeatureIndex: 1\\n      branchFeatureValue: -9.536739753457368e-07\\n      trueChildNodeId: 1\\n      falseChildNodeId: 2\\n      missingValueTracksTrueChild: true\\n      relativeHitRate: 16.0\\n    }\\n    nodes {\\n      treeId: 1\\n      nodeId: 1\\n      nodeBehavior: BranchOnValueLessThan\\n      branchFeatureValue: 0.20000000298023224\\n      trueChildNodeId: 3\\n      falseChildNodeId: 4\\n      missingValueTracksTrueChild: true\\n      relativeHitRate: 8.0\\n    }\\n    nodes {\\n      treeId: 1\\n      nodeId: 3\\n      nodeBehavior: LeafNode\\n      evaluationInfo {\\n        evaluationValue: -0.2666670083999634\\n      }\\n      relativeHitRate: 4.0\\n    }\\n    nodes {\\n      treeId: 1\\n      nodeId: 4\\n      nodeBehavior: LeafNode\\n      evaluationInfo {\\n        evaluationValue: -0.08888889849185944\\n      }\\n      relativeHitRate: 4.0\\n    }\\n    nodes {\\n      treeId: 1\\n      nodeId: 2\\n      nodeBehavior: LeafNode\\n      evaluationInfo {\\n        evaluationValue: 0.6913579702377319\\n      }\\n      relativeHitRate: 8.0\\n    }\\n    numPredictionDimensions: 1\\n    basePredictionValue: 0.5\\n  }\\n}\\n'"
      ]
     },
     "execution_count": 44,
     "metadata": {},
     "output_type": "execute_result"
    }
   ],
   "source": [
    "spec_str"
   ]
  }
 ],
 "metadata": {
  "kernelspec": {
   "display_name": "Python 3",
   "language": "python",
   "name": "python3"
  },
  "language_info": {
   "codemirror_mode": {
    "name": "ipython",
    "version": 3
   },
   "file_extension": ".py",
   "mimetype": "text/x-python",
   "name": "python",
   "nbconvert_exporter": "python",
   "pygments_lexer": "ipython3",
   "version": "3.6.1"
  }
 },
 "nbformat": 4,
 "nbformat_minor": 2
}
